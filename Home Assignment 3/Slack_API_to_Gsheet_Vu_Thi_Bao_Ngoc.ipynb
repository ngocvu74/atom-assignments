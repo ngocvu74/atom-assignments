{
  "nbformat": 4,
  "nbformat_minor": 0,
  "metadata": {
    "colab": {
      "name": "Slack API to Gsheet_Vu Thi Bao Ngoc.ipynb",
      "provenance": [],
      "collapsed_sections": []
    },
    "kernelspec": {
      "name": "python3",
      "display_name": "Python 3"
    },
    "language_info": {
      "name": "python"
    }
  },
  "cells": [
    {
      "cell_type": "markdown",
      "metadata": {
        "id": "4w2e0D-hni2p"
      },
      "source": [
        "# HOME ASSIGNMENT #3: SLACK API - TO GSHEET\n",
        "**Mục đích của bài Assignment**\n",
        "- Lấy thông tin các Users từ Slack của DataCracy (BTC, Mentors và Learners)\n",
        "- `**[Optional 1]**` Đưa danh sách Users lên Google Spreadsheet, để theo dõi \n",
        "- `**[Optional 2]**` Lấy thông tin Assignment Submission và số Reviews trên `#atom-assignmentnt2` và cập nhật lên Spreadsheet, để theo dõi các học viên đã nộp bài và được review\n",
        "\n",
        "**Các kiến thức sẽ áp dụng**\n",
        "- Ôn lại và luyện tập thêm về concept API (cụ thể sử dụng API Slack)\n",
        "- Trích xuất thông tin từ JSON\n",
        "- Dùng module gspread để đưa thông tin lên Google Spreadsheet"
      ]
    },
    {
      "cell_type": "markdown",
      "metadata": {
        "id": "yitICPVzpRI2"
      },
      "source": [
        "## 0. Load Modules"
      ]
    },
    {
      "cell_type": "code",
      "metadata": {
        "id": "G_HCucZ5rSHq"
      },
      "source": [
        "import requests #-> Để gọi API\n",
        "import re #-> Để xử lý data dạng string\n",
        "from datetime import datetime as dt #-> Để xử lý data dạng datetime\n",
        "import gspread #-> Để update data lên Google Spreadsheet\n",
        "from gspread_dataframe import set_with_dataframe #-> Để update data lên Google Spreadsheet\n",
        "import pandas as pd #-> Để update data dạng bản\n",
        "import json \n",
        "from oauth2client.service_account import ServiceAccountCredentials #-> Để nhập Google Spreadsheet Credentials\n",
        "import os"
      ],
      "execution_count": 10,
      "outputs": []
    },
    {
      "cell_type": "markdown",
      "metadata": {
        "id": "z7HOk6uMp2K2"
      },
      "source": [
        "## 1. Slack API: User List\n",
        "* Bạn có thể đọc lại về concept API [HERE](https://anhdang.gitbook.io/datacracy/atom/3-data-tools-2/3.2-spotify-api-and-postman)\n",
        "* Assignment này sẽ dùng Slack API để lấy thông tin về Learners và theo dõi các bài tập đã nộp và được review (sau đó cập nhật lên Google Spreadsheet)\n",
        "* ===> **NOTICE**: Slack API authorize bằng Bearer Token `xoxb-...-...-...` (Sẽ được cung cấp riêng)\n",
        "* Update file `env_variable.json` như trong [Assignment#2](../assignment_2/home_assignment_2.ipynb)\n",
        "* ==> Nếu bạn dùng Google Colab, upload file vào Colab ([Hướng dẫn](https://colab.research.google.com/notebooks/io.ipynb))"
      ]
    },
    {
      "cell_type": "code",
      "metadata": {
        "colab": {
          "base_uri": "https://localhost:8080/"
        },
        "id": "YoSEHfdTwYRj",
        "outputId": "29251cc3-3901-4871-d7ec-6b811110036e"
      },
      "source": [
        "!ls"
      ],
      "execution_count": 11,
      "outputs": [
        {
          "output_type": "stream",
          "text": [
            "datacracy-assignment3-50e5e1b38166.json  env_variable.json  sample_data\n"
          ],
          "name": "stdout"
        }
      ]
    },
    {
      "cell_type": "code",
      "metadata": {
        "id": "tFPqT2pirhy4"
      },
      "source": [
        "with open('env_variable.json', 'r') as j:\n",
        "    json_data = json.load(j)\n",
        "    print(json_data)"
      ],
      "execution_count": null,
      "outputs": []
    },
    {
      "cell_type": "code",
      "metadata": {
        "id": "wAzmaVTLrpvH"
      },
      "source": [
        "## Load SLACK_BEARER_TOKEN\n",
        "os.environ['SLACK_BEARER_TOKEN'] = json_data['SLACK_BEARER_TOKEN'] "
      ],
      "execution_count": 13,
      "outputs": []
    },
    {
      "cell_type": "code",
      "metadata": {
        "id": "K_TrDTx138jD"
      },
      "source": [
        "## Gọi API từ Endpoints (Input - Token được đưa vào Headers)\n",
        "## Challenge: Thử gọi API này bằng Postman\n",
        "endpoint = \"https://slack.com/api/users.list\"\n",
        "headers = {\"Authorization\": \"Bearer {}\".format(os.environ['SLACK_BEARER_TOKEN'])}\n",
        "response_json = requests.post(endpoint, headers=headers).json() \n",
        "user_dat = response_json['members']"
      ],
      "execution_count": 14,
      "outputs": []
    },
    {
      "cell_type": "markdown",
      "metadata": {
        "id": "rqEti4Y50tdB"
      },
      "source": [
        "### TODO #1\n",
        "Hoàn tất đoạn code sau"
      ]
    },
    {
      "cell_type": "code",
      "metadata": {
        "id": "P0qbkdhtD9ww"
      },
      "source": [
        "## Loop qua JSON file và extract các thông tin quan trọng (id, name, display_name, real_name_normalized, title, phone, is_bot)\n",
        "## Hint: Bạn có thể dùng Postman hoặc in user_dat JSON để xem cấu trúc (schema), dùng Ctrl+F để tìm các keys (id, name, display_name, real_name_normalized, title, phone, is_bot)\n",
        "user_dict = {'user_id':[], 'name':[], 'display_name':[],'real_name':[],'title':[],'phone':[],'is_bot':[]}\n",
        "for i in range(len(user_dat)):\n",
        "  user_dict['user_id'].append(user_dat[i]['id'])\n",
        "  user_dict['name'].append(user_dat[i]['name'])\n",
        "  user_dict['display_name'].append(user_dat[i]['profile']['display_name'])\n",
        "  user_dict['real_name'].append(user_dat[i]['profile']['real_name_normalized'])\n",
        "  user_dict['title'].append(user_dat[i]['profile']['title'])\n",
        "  user_dict['phone'].append(user_dat[i]['profile']['phone'])\n",
        "  user_dict['is_bot'].append(user_dat[i]['is_bot'])"
      ],
      "execution_count": 15,
      "outputs": []
    },
    {
      "cell_type": "code",
      "metadata": {
        "colab": {
          "base_uri": "https://localhost:8080/",
          "height": 198
        },
        "id": "yGNvsCauF8_w",
        "outputId": "e812a6fa-4a2e-4f38-9fb2-0cc37043c63b"
      },
      "source": [
        "user_df = pd.DataFrame(user_dict) ## Dùng pandas để convert dictionaries thành bảng\n",
        "user_df.head(5) ## Chỉ in 5 dòng đầu (chủ yếu để xem cấu trúc)"
      ],
      "execution_count": 18,
      "outputs": [
        {
          "output_type": "execute_result",
          "data": {
            "text/html": [
              "<div>\n",
              "<style scoped>\n",
              "    .dataframe tbody tr th:only-of-type {\n",
              "        vertical-align: middle;\n",
              "    }\n",
              "\n",
              "    .dataframe tbody tr th {\n",
              "        vertical-align: top;\n",
              "    }\n",
              "\n",
              "    .dataframe thead th {\n",
              "        text-align: right;\n",
              "    }\n",
              "</style>\n",
              "<table border=\"1\" class=\"dataframe\">\n",
              "  <thead>\n",
              "    <tr style=\"text-align: right;\">\n",
              "      <th></th>\n",
              "      <th>user_id</th>\n",
              "      <th>name</th>\n",
              "      <th>display_name</th>\n",
              "      <th>real_name</th>\n",
              "      <th>title</th>\n",
              "      <th>phone</th>\n",
              "      <th>is_bot</th>\n",
              "    </tr>\n",
              "  </thead>\n",
              "  <tbody>\n",
              "    <tr>\n",
              "      <th>0</th>\n",
              "      <td>USLACKBOT</td>\n",
              "      <td>slackbot</td>\n",
              "      <td>Slackbot</td>\n",
              "      <td>Slackbot</td>\n",
              "      <td></td>\n",
              "      <td></td>\n",
              "      <td>False</td>\n",
              "    </tr>\n",
              "    <tr>\n",
              "      <th>1</th>\n",
              "      <td>U01AT4T75JB</td>\n",
              "      <td>loclexuan26392</td>\n",
              "      <td>Loc Le Xuan</td>\n",
              "      <td>Loc Le Xuan</td>\n",
              "      <td></td>\n",
              "      <td></td>\n",
              "      <td>False</td>\n",
              "    </tr>\n",
              "    <tr>\n",
              "      <th>2</th>\n",
              "      <td>U01AVDY7JET</td>\n",
              "      <td>locle.ds</td>\n",
              "      <td>Loc Le Xuan</td>\n",
              "      <td>Loc Le Xuan</td>\n",
              "      <td></td>\n",
              "      <td></td>\n",
              "      <td>False</td>\n",
              "    </tr>\n",
              "    <tr>\n",
              "      <th>3</th>\n",
              "      <td>U01BE2PR6LU</td>\n",
              "      <td>maianhdang.ftu</td>\n",
              "      <td>MAD</td>\n",
              "      <td>Dặng Huỳnh Mai Anh</td>\n",
              "      <td>Technical Contents</td>\n",
              "      <td></td>\n",
              "      <td>False</td>\n",
              "    </tr>\n",
              "    <tr>\n",
              "      <th>4</th>\n",
              "      <td>U01C48T7S1J</td>\n",
              "      <td>huyenhoang.design</td>\n",
              "      <td>Thanh Huyen Hoang</td>\n",
              "      <td>Thanh Huyen Hoang</td>\n",
              "      <td></td>\n",
              "      <td></td>\n",
              "      <td>False</td>\n",
              "    </tr>\n",
              "  </tbody>\n",
              "</table>\n",
              "</div>"
            ],
            "text/plain": [
              "       user_id               name  ... phone is_bot\n",
              "0    USLACKBOT           slackbot  ...        False\n",
              "1  U01AT4T75JB     loclexuan26392  ...        False\n",
              "2  U01AVDY7JET           locle.ds  ...        False\n",
              "3  U01BE2PR6LU     maianhdang.ftu  ...        False\n",
              "4  U01C48T7S1J  huyenhoang.design  ...        False\n",
              "\n",
              "[5 rows x 7 columns]"
            ]
          },
          "metadata": {
            "tags": []
          },
          "execution_count": 18
        }
      ]
    },
    {
      "cell_type": "code",
      "metadata": {
        "colab": {
          "base_uri": "https://localhost:8080/",
          "height": 78
        },
        "id": "rjFcaWdt2ABM",
        "outputId": "7dd8568e-d3a4-4423-ea78-f35af753d9b0"
      },
      "source": [
        "user_df[user_df.display_name == 'MAD'] ## Lọc thông tin của MAD, trên DataFrame (bạn có thể Google thêm)"
      ],
      "execution_count": 19,
      "outputs": [
        {
          "output_type": "execute_result",
          "data": {
            "text/html": [
              "<div>\n",
              "<style scoped>\n",
              "    .dataframe tbody tr th:only-of-type {\n",
              "        vertical-align: middle;\n",
              "    }\n",
              "\n",
              "    .dataframe tbody tr th {\n",
              "        vertical-align: top;\n",
              "    }\n",
              "\n",
              "    .dataframe thead th {\n",
              "        text-align: right;\n",
              "    }\n",
              "</style>\n",
              "<table border=\"1\" class=\"dataframe\">\n",
              "  <thead>\n",
              "    <tr style=\"text-align: right;\">\n",
              "      <th></th>\n",
              "      <th>user_id</th>\n",
              "      <th>name</th>\n",
              "      <th>display_name</th>\n",
              "      <th>real_name</th>\n",
              "      <th>title</th>\n",
              "      <th>phone</th>\n",
              "      <th>is_bot</th>\n",
              "    </tr>\n",
              "  </thead>\n",
              "  <tbody>\n",
              "    <tr>\n",
              "      <th>3</th>\n",
              "      <td>U01BE2PR6LU</td>\n",
              "      <td>maianhdang.ftu</td>\n",
              "      <td>MAD</td>\n",
              "      <td>Dặng Huỳnh Mai Anh</td>\n",
              "      <td>Technical Contents</td>\n",
              "      <td></td>\n",
              "      <td>False</td>\n",
              "    </tr>\n",
              "  </tbody>\n",
              "</table>\n",
              "</div>"
            ],
            "text/plain": [
              "       user_id            name display_name  ...               title phone is_bot\n",
              "3  U01BE2PR6LU  maianhdang.ftu          MAD  ...  Technical Contents        False\n",
              "\n",
              "[1 rows x 7 columns]"
            ]
          },
          "metadata": {
            "tags": []
          },
          "execution_count": 19
        }
      ]
    },
    {
      "cell_type": "markdown",
      "metadata": {
        "id": "1TZrcaWZyE07"
      },
      "source": [
        "-------------- HẾT PHẦN BẮT BUỘC ---------------------"
      ]
    },
    {
      "cell_type": "markdown",
      "metadata": {
        "id": "P3_b7zw-1A6s"
      },
      "source": [
        "## Option 1: Update data => Google SpreadSheet"
      ]
    },
    {
      "cell_type": "markdown",
      "metadata": {
        "id": "UPuXhw3WtmWw"
      },
      "source": [
        "### TODO#2\n",
        "Tạo service account (output là file json), file này để cho phép ta access vào Google Spreadsheet:\n",
        "\n",
        "1. Làm theo hướng dẫn: [Google Create a Service Account](https://support.google.com/a/answer/7378726?hl=en)\n",
        "![google_service_account](https://github.com/ngocvu74/atom-assignments/blob/main/img/google_service_account.png?raw=1)\n",
        "2. Lưu file JSON (chứa credential về máy)\n",
        "![gservice_acc_json](https://github.com/ngocvu74/atom-assignments/blob/main/img/gservice_acc_json.png?raw=1)\n",
        "3. Nhớ Enable [Google Drive API](https://console.cloud.google.com/marketplace/product/google/drive.googleapis.com?q=search&referrer=search&project=quickstart-313303) (Nếu bạn chạy code báo lỗi chưa enable API thì vào link trong phần lỗi để Enable, sau khi kích hoạt có thể cần vài phút để chạy được)\n",
        "![enable_api](https://github.com/ngocvu74/atom-assignments/blob/main/img/enable_api.png?raw=1)\n",
        "* ==> Upload file Gsheet Credential JSON nếu bạn dùng Colab \n",
        "* ==> Nếu bạn để key trong repo git, **NHỚ** để file json vào `.gitignore` để không bị leaked key)\n"
      ]
    },
    {
      "cell_type": "code",
      "metadata": {
        "colab": {
          "base_uri": "https://localhost:8080/"
        },
        "id": "XhrcVjXWwldS",
        "outputId": "1be0c34f-8519-4fd0-b6c2-12c9c3342543"
      },
      "source": [
        "!ls"
      ],
      "execution_count": 20,
      "outputs": [
        {
          "output_type": "stream",
          "text": [
            "datacracy-assignment3-50e5e1b38166.json  env_variable.json  sample_data\n"
          ],
          "name": "stdout"
        }
      ]
    },
    {
      "cell_type": "code",
      "metadata": {
        "colab": {
          "base_uri": "https://localhost:8080/"
        },
        "id": "4NEQFu-DNvFC",
        "outputId": "1ea34d3f-963b-461c-82c5-6a233da8ba76"
      },
      "source": [
        "## Authorize bằng JSON\n",
        "scope = ['https://spreadsheets.google.com/feeds',\n",
        "         'https://www.googleapis.com/auth/drive']\n",
        "credentials = ServiceAccountCredentials.from_json_keyfile_name(\n",
        "    'datacracy-assignment3-50e5e1b38166.json', scope)\n",
        "gc = gspread.authorize(credentials)\n",
        "print(\"DONE!\")"
      ],
      "execution_count": 21,
      "outputs": [
        {
          "output_type": "stream",
          "text": [
            "DONE!\n"
          ],
          "name": "stdout"
        }
      ]
    },
    {
      "cell_type": "markdown",
      "metadata": {
        "id": "HELBp0Sdxhzc"
      },
      "source": [
        "**Tạo Spreadsheet**\n",
        "\n",
        "1. Tạo Spreadsheet trên google\n",
        "2. Invite account trong `client_email` (file JSON Gsheet Credential bên trên) vào Spreadsheet (quyền Editor)\n",
        "![enable_api](https://github.com/ngocvu74/atom-assignments/blob/main/img/enable_api.png?raw=1)\n",
        "3. Lấy `SPREADSHEET_KEY` (nằm trong chính URL của Spreadhstee): `https://docs.google.com/spreadsheets/d/<SPREADSHEET_KEY>/edit#gid=0`\n",
        "\n",
        "![add_gsheet](https://github.com/ngocvu74/atom-assignments/blob/main/img/add_gsheet.png?raw=1)"
      ]
    },
    {
      "cell_type": "code",
      "metadata": {
        "id": "XlZ8JNB3bZbw"
      },
      "source": [
        "# ACCES GOOGLE SHEET\n",
        "sheet_index_no = 0\n",
        "spreadsheet_key = '17s9-PbcZgR4sjATEbDfDQZr_rtaQ27j0ENE3z7zzbms' # input SPREADSHEET_KEY HERE\n",
        "sh = gc.open_by_key(spreadsheet_key)\n",
        "worksheet = sh.get_worksheet(sheet_index_no) #-> 0 - first sheet, 1 - second sheet etc. \n",
        "\n",
        "# APPEND DATA TO SHEET\n",
        "set_with_dataframe(worksheet, user_df) #-> Upload user_df vào Sheet đầu tiên trong Spreadsheet\n",
        "\n",
        "# DONE: Bây giờ bạn có thể mở spreadsheet và kiểm tra nội dung đã update chứ"
      ],
      "execution_count": 22,
      "outputs": []
    },
    {
      "cell_type": "markdown",
      "metadata": {
        "id": "7Ukqw9xT2GUB"
      },
      "source": [
        "![slack_user_gsheet](https://github.com/ngocvu74/atom-assignments/blob/main/img/slack_user_gsheet.png?raw=1)"
      ]
    },
    {
      "cell_type": "markdown",
      "metadata": {
        "id": "5I15m3ilyA3Y"
      },
      "source": [
        "-------------- HẾT PHẦN OPTION 1 ---------------------"
      ]
    },
    {
      "cell_type": "markdown",
      "metadata": {
        "id": "9aRN9KSczkmr"
      },
      "source": [
        "## Option 2: Ai đã nộp bài?\n"
      ]
    },
    {
      "cell_type": "markdown",
      "metadata": {
        "id": "Pw81ioUz2N0v"
      },
      "source": [
        "### Slack API: Channel List"
      ]
    },
    {
      "cell_type": "code",
      "metadata": {
        "id": "fcdaDaGdz60p",
        "colab": {
          "base_uri": "https://localhost:8080/"
        },
        "outputId": "0c4bc4bb-f734-4a45-f98e-474bc6ce98ef"
      },
      "source": [
        "## Gọi SLACK API để list tất cả các channel\n",
        "endpoint = \"https://slack.com/api/conversations.list\"\n",
        "headers = {\"Authorization\": \"Bearer {}\".format(os.environ['SLACK_BEARER_TOKEN'])}\n",
        "response = requests.post(endpoint, headers=headers).json() \n",
        "channel_ls = response['channels']\n",
        "print(channel_ls)"
      ],
      "execution_count": 23,
      "outputs": [
        {
          "output_type": "stream",
          "text": [
            "[{'id': 'C01B4PVGLVB', 'name': 'general', 'is_channel': True, 'is_group': False, 'is_im': False, 'created': 1600856703, 'is_archived': False, 'is_general': True, 'unlinked': 0, 'name_normalized': 'general', 'is_shared': False, 'parent_conversation': None, 'creator': 'U01BE2PR6LU', 'is_ext_shared': False, 'is_org_shared': False, 'shared_team_ids': ['T01B7SGGMLJ'], 'pending_shared': [], 'pending_connected_team_ids': [], 'is_pending_ext_shared': False, 'is_member': False, 'is_private': False, 'is_mpim': False, 'topic': {'value': '', 'creator': '', 'last_set': 0}, 'purpose': {'value': 'This is the one channel that will always include everyone. It’s a great spot for announcements and team-wide conversations.', 'creator': 'U01BE2PR6LU', 'last_set': 1600856703}, 'previous_names': [], 'num_members': 63}, {'id': 'C01BYH7JHB5', 'name': 'contents', 'is_channel': True, 'is_group': False, 'is_im': False, 'created': 1601882889, 'is_archived': False, 'is_general': False, 'unlinked': 0, 'name_normalized': 'contents', 'is_shared': False, 'parent_conversation': None, 'creator': 'U01BE2PR6LU', 'is_ext_shared': False, 'is_org_shared': False, 'shared_team_ids': ['T01B7SGGMLJ'], 'pending_shared': [], 'pending_connected_team_ids': [], 'is_pending_ext_shared': False, 'is_member': False, 'is_private': False, 'is_mpim': False, 'topic': {'value': '', 'creator': '', 'last_set': 0}, 'purpose': {'value': '', 'creator': '', 'last_set': 0}, 'previous_names': [], 'num_members': 11}, {'id': 'C01CAMNCJJV', 'name': 'branding-design', 'is_channel': True, 'is_group': False, 'is_im': False, 'created': 1601867790, 'is_archived': False, 'is_general': False, 'unlinked': 0, 'name_normalized': 'branding-design', 'is_shared': False, 'parent_conversation': None, 'creator': 'U01AVDY7JET', 'is_ext_shared': False, 'is_org_shared': False, 'shared_team_ids': ['T01B7SGGMLJ'], 'pending_shared': [], 'pending_connected_team_ids': [], 'is_pending_ext_shared': False, 'is_member': False, 'is_private': False, 'is_mpim': False, 'topic': {'value': '', 'creator': '', 'last_set': 0}, 'purpose': {'value': '', 'creator': '', 'last_set': 0}, 'previous_names': [], 'num_members': 9}, {'id': 'C01U6P7LZ8F', 'name': 'atom-assignment1', 'is_channel': True, 'is_group': False, 'is_im': False, 'created': 1618642804, 'is_archived': False, 'is_general': False, 'unlinked': 0, 'name_normalized': 'atom-assignment1', 'is_shared': False, 'parent_conversation': None, 'creator': 'U01BE2PR6LU', 'is_ext_shared': False, 'is_org_shared': False, 'shared_team_ids': ['T01B7SGGMLJ'], 'pending_shared': [], 'pending_connected_team_ids': [], 'is_pending_ext_shared': False, 'is_member': True, 'is_private': False, 'is_mpim': False, 'topic': {'value': 'Assigment#1 - Python Basics &amp; Spreadsheet Analysis', 'creator': 'U01BE2PR6LU', 'last_set': 1621074484}, 'purpose': {'value': 'Where learners submit assignments and give review for others', 'creator': 'U01BE2PR6LU', 'last_set': 1621074440}, 'previous_names': [], 'num_members': 43}, {'id': 'C01UL6K1C7L', 'name': 'atom-week1', 'is_channel': True, 'is_group': False, 'is_im': False, 'created': 1618595072, 'is_archived': False, 'is_general': False, 'unlinked': 0, 'name_normalized': 'atom-week1', 'is_shared': False, 'parent_conversation': None, 'creator': 'U01BE2PR6LU', 'is_ext_shared': False, 'is_org_shared': False, 'shared_team_ids': ['T01B7SGGMLJ'], 'pending_shared': [], 'pending_connected_team_ids': [], 'is_pending_ext_shared': False, 'is_member': False, 'is_private': False, 'is_mpim': False, 'topic': {'value': 'TOPIC: Data Strategy. Metrics Design. Spreadsheet.', 'creator': 'U01BE2PR6LU', 'last_set': 1618595089}, 'purpose': {'value': 'TOPIC: Data Strategy. Metrics Design. Spreadsheet.', 'creator': 'U01BE2PR6LU', 'last_set': 1618595073}, 'previous_names': [], 'num_members': 41}, {'id': 'C01ULCHGN75', 'name': 'atom-general', 'is_channel': True, 'is_group': False, 'is_im': False, 'created': 1618594940, 'is_archived': False, 'is_general': False, 'unlinked': 0, 'name_normalized': 'atom-general', 'is_shared': False, 'parent_conversation': None, 'creator': 'U01BE2PR6LU', 'is_ext_shared': False, 'is_org_shared': False, 'shared_team_ids': ['T01B7SGGMLJ'], 'pending_shared': [], 'pending_connected_team_ids': [], 'is_pending_ext_shared': False, 'is_member': False, 'is_private': False, 'is_mpim': False, 'topic': {'value': 'General communication channel of ATOM', 'creator': 'U01BE2PR6LU', 'last_set': 1618595099}, 'purpose': {'value': 'General communication channel of ATOM', 'creator': 'U01BE2PR6LU', 'last_set': 1618594941}, 'previous_names': [], 'num_members': 22}, {'id': 'C020VMT58JK', 'name': 'topics-data-analytics', 'is_channel': True, 'is_group': False, 'is_im': False, 'created': 1620453940, 'is_archived': False, 'is_general': False, 'unlinked': 0, 'name_normalized': 'topics-data-analytics', 'is_shared': False, 'parent_conversation': None, 'creator': 'U01BE2PR6LU', 'is_ext_shared': False, 'is_org_shared': False, 'shared_team_ids': ['T01B7SGGMLJ'], 'pending_shared': [], 'pending_connected_team_ids': [], 'is_pending_ext_shared': False, 'is_member': False, 'is_private': False, 'is_mpim': False, 'topic': {'value': '', 'creator': '', 'last_set': 0}, 'purpose': {'value': '', 'creator': '', 'last_set': 0}, 'previous_names': ['discuss-data-analytics'], 'num_members': 5}, {'id': 'C0213MNH9L6', 'name': 'topics-python', 'is_channel': True, 'is_group': False, 'is_im': False, 'created': 1620453921, 'is_archived': False, 'is_general': False, 'unlinked': 0, 'name_normalized': 'topics-python', 'is_shared': False, 'parent_conversation': None, 'creator': 'U01BE2PR6LU', 'is_ext_shared': False, 'is_org_shared': False, 'shared_team_ids': ['T01B7SGGMLJ'], 'pending_shared': [], 'pending_connected_team_ids': [], 'is_pending_ext_shared': False, 'is_member': False, 'is_private': False, 'is_mpim': False, 'topic': {'value': '', 'creator': '', 'last_set': 0}, 'purpose': {'value': 'Channel để thảo luận về Python', 'creator': 'U01BE2PR6LU', 'last_set': 1620453923}, 'previous_names': ['topics-discuss-python', 'discuss-python'], 'num_members': 26}, {'id': 'C0213N56M2A', 'name': 'topics-materials', 'is_channel': True, 'is_group': False, 'is_im': False, 'created': 1620455498, 'is_archived': False, 'is_general': False, 'unlinked': 0, 'name_normalized': 'topics-materials', 'is_shared': False, 'parent_conversation': None, 'creator': 'U01BE2PR6LU', 'is_ext_shared': False, 'is_org_shared': False, 'shared_team_ids': ['T01B7SGGMLJ'], 'pending_shared': [], 'pending_connected_team_ids': [], 'is_pending_ext_shared': False, 'is_member': False, 'is_private': False, 'is_mpim': False, 'topic': {'value': '', 'creator': '', 'last_set': 0}, 'purpose': {'value': '', 'creator': '', 'last_set': 0}, 'previous_names': [], 'num_members': 19}, {'id': 'C021FSDN7LJ', 'name': 'atom-assignment2', 'is_channel': True, 'is_group': False, 'is_im': False, 'created': 1620677142, 'is_archived': False, 'is_general': False, 'unlinked': 0, 'name_normalized': 'atom-assignment2', 'is_shared': False, 'parent_conversation': None, 'creator': 'U01BE2PR6LU', 'is_ext_shared': False, 'is_org_shared': False, 'shared_team_ids': ['T01B7SGGMLJ'], 'pending_shared': [], 'pending_connected_team_ids': [], 'is_pending_ext_shared': False, 'is_member': True, 'is_private': False, 'is_mpim': False, 'topic': {'value': 'Assigment#2 - Mailbot, API, Web Scrapping', 'creator': 'U01BE2PR6LU', 'last_set': 1621074502}, 'purpose': {'value': 'Where learners submit assignments and give review for others', 'creator': 'U01BE2PR6LU', 'last_set': 1621074519}, 'previous_names': [], 'num_members': 39}, {'id': 'C02204B2CD6', 'name': 'atom-week2', 'is_channel': True, 'is_group': False, 'is_im': False, 'created': 1620438322, 'is_archived': False, 'is_general': False, 'unlinked': 0, 'name_normalized': 'atom-week2', 'is_shared': False, 'parent_conversation': None, 'creator': 'U01BE2PR6LU', 'is_ext_shared': False, 'is_org_shared': False, 'shared_team_ids': ['T01B7SGGMLJ'], 'pending_shared': [], 'pending_connected_team_ids': [], 'is_pending_ext_shared': False, 'is_member': False, 'is_private': False, 'is_mpim': False, 'topic': {'value': 'TOPIC: Python Basics &amp; Git', 'creator': 'U01BE2PR6LU', 'last_set': 1621074535}, 'purpose': {'value': 'Data tools (2): Github &amp; Python Basics', 'creator': 'U01BE2PR6LU', 'last_set': 1620438323}, 'previous_names': [], 'num_members': 22}, {'id': 'C0226D3LEQ4', 'name': 'atom-week3', 'is_channel': True, 'is_group': False, 'is_im': False, 'created': 1621044045, 'is_archived': False, 'is_general': False, 'unlinked': 0, 'name_normalized': 'atom-week3', 'is_shared': False, 'parent_conversation': None, 'creator': 'U01BE2PR6LU', 'is_ext_shared': False, 'is_org_shared': False, 'shared_team_ids': ['T01B7SGGMLJ'], 'pending_shared': [], 'pending_connected_team_ids': [], 'is_pending_ext_shared': False, 'is_member': False, 'is_private': False, 'is_mpim': False, 'topic': {'value': 'TOPIC: API, JSON, Mailbot, Web Scrapping', 'creator': 'U01BE2PR6LU', 'last_set': 1621074556}, 'purpose': {'value': '', 'creator': '', 'last_set': 0}, 'previous_names': [], 'num_members': 23}, {'id': 'C0227A51SAY', 'name': 'atom-assignment3', 'is_channel': True, 'is_group': False, 'is_im': False, 'created': 1621125573, 'is_archived': False, 'is_general': False, 'unlinked': 0, 'name_normalized': 'atom-assignment3', 'is_shared': False, 'parent_conversation': None, 'creator': 'U01BE2PR6LU', 'is_ext_shared': False, 'is_org_shared': False, 'shared_team_ids': ['T01B7SGGMLJ'], 'pending_shared': [], 'pending_connected_team_ids': [], 'is_pending_ext_shared': False, 'is_member': True, 'is_private': False, 'is_mpim': False, 'topic': {'value': '', 'creator': '', 'last_set': 0}, 'purpose': {'value': '', 'creator': '', 'last_set': 0}, 'previous_names': [], 'num_members': 33}]\n"
          ],
          "name": "stdout"
        }
      ]
    },
    {
      "cell_type": "code",
      "metadata": {
        "colab": {
          "base_uri": "https://localhost:8080/"
        },
        "id": "47dUJAPi0Jg5",
        "outputId": "47e27822-a681-4b72-f799-17963a550188"
      },
      "source": [
        "channel_ls[0] ## Thử extract record đầu tiên để xem schema  => name: general, id: C01B4PVGLVB"
      ],
      "execution_count": 24,
      "outputs": [
        {
          "output_type": "execute_result",
          "data": {
            "text/plain": [
              "{'created': 1600856703,\n",
              " 'creator': 'U01BE2PR6LU',\n",
              " 'id': 'C01B4PVGLVB',\n",
              " 'is_archived': False,\n",
              " 'is_channel': True,\n",
              " 'is_ext_shared': False,\n",
              " 'is_general': True,\n",
              " 'is_group': False,\n",
              " 'is_im': False,\n",
              " 'is_member': False,\n",
              " 'is_mpim': False,\n",
              " 'is_org_shared': False,\n",
              " 'is_pending_ext_shared': False,\n",
              " 'is_private': False,\n",
              " 'is_shared': False,\n",
              " 'name': 'general',\n",
              " 'name_normalized': 'general',\n",
              " 'num_members': 63,\n",
              " 'parent_conversation': None,\n",
              " 'pending_connected_team_ids': [],\n",
              " 'pending_shared': [],\n",
              " 'previous_names': [],\n",
              " 'purpose': {'creator': 'U01BE2PR6LU',\n",
              "  'last_set': 1600856703,\n",
              "  'value': 'This is the one channel that will always include everyone. It’s a great spot for announcements and team-wide conversations.'},\n",
              " 'shared_team_ids': ['T01B7SGGMLJ'],\n",
              " 'topic': {'creator': '', 'last_set': 0, 'value': ''},\n",
              " 'unlinked': 0}"
            ]
          },
          "metadata": {
            "tags": []
          },
          "execution_count": 24
        }
      ]
    },
    {
      "cell_type": "markdown",
      "metadata": {
        "id": "CNFTcFC00l8g"
      },
      "source": [
        "### TODO#3 \n",
        "* Tìm id của channel #atom-assignment2"
      ]
    },
    {
      "cell_type": "markdown",
      "metadata": {
        "id": "EnCvdYAn2R47"
      },
      "source": [
        "### Slack API: List messages trong 1 channel"
      ]
    },
    {
      "cell_type": "code",
      "metadata": {
        "colab": {
          "base_uri": "https://localhost:8080/"
        },
        "id": "g12YuJXbJiPK",
        "outputId": "a163b68e-f013-4270-8f94-c45117e67e0c"
      },
      "source": [
        "atom_assignment2_id = \"Can't find\"\n",
        "for i in channel_ls:\n",
        "    if i['name'] == 'atom-assignment2':\n",
        "        atom_assignment2_id = i['id']\n",
        "\n",
        "print(atom_assignment2_id)"
      ],
      "execution_count": 48,
      "outputs": [
        {
          "output_type": "stream",
          "text": [
            "C021FSDN7LJ\n"
          ],
          "name": "stdout"
        }
      ]
    },
    {
      "cell_type": "code",
      "metadata": {
        "id": "1UsSESN8rtnk"
      },
      "source": [
        "endpoint = \"https://slack.com/api/conversations.history\"\n",
        "data = {\"channel\": \"C021FSDN7LJ\"} ## This is ID of assignment#2 channel\n",
        "headers = {\"Authorization\": \"Bearer {}\".format(os.environ['SLACK_BEARER_TOKEN'])}"
      ],
      "execution_count": 65,
      "outputs": []
    },
    {
      "cell_type": "code",
      "metadata": {
        "id": "i8eJw3LBr4lY"
      },
      "source": [
        "response_json = requests.post(endpoint, data=data, headers=headers).json()\n",
        "# print(response_json)\n",
        "msg_ls = response_json['messages']"
      ],
      "execution_count": 67,
      "outputs": []
    },
    {
      "cell_type": "code",
      "metadata": {
        "colab": {
          "base_uri": "https://localhost:8080/"
        },
        "id": "KkYO1KcBtZa9",
        "outputId": "4433d7a6-fd20-4360-a182-8edcd0d50260"
      },
      "source": [
        "msg_ls[50]"
      ],
      "execution_count": 68,
      "outputs": [
        {
          "output_type": "execute_result",
          "data": {
            "text/plain": [
              "{'subtype': 'channel_join',\n",
              " 'text': '<@U01UMBW8G8J> has joined the channel',\n",
              " 'ts': '1620743421.003300',\n",
              " 'type': 'message',\n",
              " 'user': 'U01UMBW8G8J'}"
            ]
          },
          "metadata": {
            "tags": []
          },
          "execution_count": 68
        }
      ]
    },
    {
      "cell_type": "code",
      "metadata": {
        "id": "BsW8CXAXv-tC"
      },
      "source": [
        "not_learners_id = ['U01BE2PR6LU']"
      ],
      "execution_count": 69,
      "outputs": []
    },
    {
      "cell_type": "code",
      "metadata": {
        "id": "uZFXSc4JId68"
      },
      "source": [
        "not_learners_id = ['U01BE2PR6LU'] # -> Remove MA from the user_id\n",
        "github, reply_count, reply_users_count, reply_users, latest_reply = '','','','',''\n",
        "msg_dict = {'ts': [], 'user': [], 'reply_count': [], 'reply_users_count': [], 'reply_users': [], 'latest_reply': [], 'github': []}\n",
        "for i in range(len(msg_ls)):\n",
        "    ts = dt.fromtimestamp(float(msg_ls[i]['ts'])) # -> Convert timestamp Epoch thành dạng dễ đọc\n",
        "    user = msg_ls[i]['user'] # -> Lấy thông tin người post messages\n",
        "    if msg_ls[i]['user'] not in not_learners_id:\n",
        "        if 'attachments' in msg_ls[i].keys():\n",
        "      # print(msg_ls[i].keys())\n",
        "            text = msg_ls[i]['text']\n",
        "            github_link = re.findall('(?:https?://)?(?:www[.])?github[.]com/[\\w-]+/?', text) #-> Submission là các message có link github\n",
        "      # print(msg_ls[i])\n",
        "            if len(github_link) > 0: github = github_link[0]\n",
        "            if 'reply_count' in msg_ls[i].keys(): reply_count = msg_ls[i]['reply_count'] #-> Extract số review\n",
        "            if 'reply_users_count' in msg_ls[i].keys(): reply_users_count = msg_ls[i]['reply_users_count']\n",
        "            if 'reply_users' in msg_ls[i].keys(): reply_users = msg_ls[i]['reply_users']\n",
        "            if 'latest_reply' in msg_ls[i].keys(): latest_reply = dt.fromtimestamp(float(msg_ls[i]['latest_reply']))\n",
        "            msg_dict['ts'].append(ts)\n",
        "            msg_dict['user'].append(user)\n",
        "            msg_dict['reply_count'].append(reply_count)\n",
        "            msg_dict['reply_users_count'].append(reply_users_count)\n",
        "            msg_dict['reply_users'].append(reply_users)\n",
        "            msg_dict['latest_reply'].append(latest_reply)\n",
        "            msg_dict['github'].append(github)"
      ],
      "execution_count": 70,
      "outputs": []
    },
    {
      "cell_type": "code",
      "metadata": {
        "colab": {
          "base_uri": "https://localhost:8080/",
          "height": 302
        },
        "id": "vJsvuMH9IA5D",
        "outputId": "369f18cb-6099-4c19-aa00-b3e3a4d3e53a"
      },
      "source": [
        "msg_df = pd.DataFrame(msg_dict)\n",
        "msg_df.head(5)\n"
      ],
      "execution_count": 71,
      "outputs": [
        {
          "output_type": "execute_result",
          "data": {
            "text/html": [
              "<div>\n",
              "<style scoped>\n",
              "    .dataframe tbody tr th:only-of-type {\n",
              "        vertical-align: middle;\n",
              "    }\n",
              "\n",
              "    .dataframe tbody tr th {\n",
              "        vertical-align: top;\n",
              "    }\n",
              "\n",
              "    .dataframe thead th {\n",
              "        text-align: right;\n",
              "    }\n",
              "</style>\n",
              "<table border=\"1\" class=\"dataframe\">\n",
              "  <thead>\n",
              "    <tr style=\"text-align: right;\">\n",
              "      <th></th>\n",
              "      <th>ts</th>\n",
              "      <th>user</th>\n",
              "      <th>reply_count</th>\n",
              "      <th>reply_users_count</th>\n",
              "      <th>reply_users</th>\n",
              "      <th>latest_reply</th>\n",
              "      <th>github</th>\n",
              "    </tr>\n",
              "  </thead>\n",
              "  <tbody>\n",
              "    <tr>\n",
              "      <th>0</th>\n",
              "      <td>2021-05-17 00:28:18.005500</td>\n",
              "      <td>U01UTGRMGEQ</td>\n",
              "      <td></td>\n",
              "      <td></td>\n",
              "      <td></td>\n",
              "      <td></td>\n",
              "      <td>https://github.com/nguyenhonghanh2511/</td>\n",
              "    </tr>\n",
              "    <tr>\n",
              "      <th>1</th>\n",
              "      <td>2021-05-15 02:01:57.003500</td>\n",
              "      <td>U01UJ9M3P1T</td>\n",
              "      <td></td>\n",
              "      <td></td>\n",
              "      <td></td>\n",
              "      <td></td>\n",
              "      <td>https://github.com/cnhhoang850/</td>\n",
              "    </tr>\n",
              "    <tr>\n",
              "      <th>2</th>\n",
              "      <td>2021-05-14 23:54:46.001200</td>\n",
              "      <td>U01UJ9P1S3X</td>\n",
              "      <td></td>\n",
              "      <td></td>\n",
              "      <td></td>\n",
              "      <td></td>\n",
              "      <td>https://github.com/lethuthao1368/</td>\n",
              "    </tr>\n",
              "    <tr>\n",
              "      <th>3</th>\n",
              "      <td>2021-05-14 18:14:27.022900</td>\n",
              "      <td>U01UTGVPE7N</td>\n",
              "      <td></td>\n",
              "      <td></td>\n",
              "      <td></td>\n",
              "      <td></td>\n",
              "      <td>https://github.com/hoaintp/</td>\n",
              "    </tr>\n",
              "    <tr>\n",
              "      <th>4</th>\n",
              "      <td>2021-05-14 16:57:51.019900</td>\n",
              "      <td>U01UMJ451V1</td>\n",
              "      <td>3</td>\n",
              "      <td>3</td>\n",
              "      <td>[U01UMJ451V1, U01UMC0N5U2, U01UMJ36QD9]</td>\n",
              "      <td>2021-05-19 14:32:40.004800</td>\n",
              "      <td>https://github.com/annaho124/</td>\n",
              "    </tr>\n",
              "  </tbody>\n",
              "</table>\n",
              "</div>"
            ],
            "text/plain": [
              "                          ts  ...                                  github\n",
              "0 2021-05-17 00:28:18.005500  ...  https://github.com/nguyenhonghanh2511/\n",
              "1 2021-05-15 02:01:57.003500  ...         https://github.com/cnhhoang850/\n",
              "2 2021-05-14 23:54:46.001200  ...       https://github.com/lethuthao1368/\n",
              "3 2021-05-14 18:14:27.022900  ...             https://github.com/hoaintp/\n",
              "4 2021-05-14 16:57:51.019900  ...           https://github.com/annaho124/\n",
              "\n",
              "[5 rows x 7 columns]"
            ]
          },
          "metadata": {
            "tags": []
          },
          "execution_count": 71
        }
      ]
    },
    {
      "cell_type": "markdown",
      "metadata": {
        "id": "SgSC21qO3kKA"
      },
      "source": [
        "### TODO#4\n",
        "* Tạo thành 1 bảng chứa các thông tin trên và update lên Spreadsheet (Sheet: Assignment#2 Submission)"
      ]
    },
    {
      "cell_type": "code",
      "metadata": {
        "colab": {
          "base_uri": "https://localhost:8080/"
        },
        "id": "AeO0yiLMn5Dc",
        "outputId": "d9bf35b4-3f2e-4898-f4c0-abecd5ec6dc2"
      },
      "source": [
        "## Authorize bằng JSON\n",
        "scope = ['https://spreadsheets.google.com/feeds',\n",
        "         'https://www.googleapis.com/auth/drive']\n",
        "credentials = ServiceAccountCredentials.from_json_keyfile_name(\n",
        "    'datacracy-assignment3-50e5e1b38166.json', scope)\n",
        "gc = gspread.authorize(credentials)\n",
        "print(\"DONE!\")"
      ],
      "execution_count": 72,
      "outputs": [
        {
          "output_type": "stream",
          "text": [
            "DONE!\n"
          ],
          "name": "stdout"
        }
      ]
    },
    {
      "cell_type": "code",
      "metadata": {
        "id": "qc7S8PgTIAMN"
      },
      "source": [
        "# ACCES GOOGLE SHEET\n",
        "sheet_index_no = 1\n",
        "spreadsheet_key = '17s9-PbcZgR4sjATEbDfDQZr_rtaQ27j0ENE3z7zzbms' # input SPREADSHEET_KEY HERE\n",
        "sh = gc.open_by_key(spreadsheet_key)\n",
        "worksheet = sh.get_worksheet(sheet_index_no) #-> 0 - first sheet, 1 - second sheet etc. \n",
        "\n",
        "# APPEND DATA TO SHEET\n",
        "set_with_dataframe(worksheet, msg_df) #-> Upload user_df vào Sheet thứ 2 trong Spreadsheet"
      ],
      "execution_count": 73,
      "outputs": []
    },
    {
      "cell_type": "markdown",
      "metadata": {
        "id": "698exK3k35RM"
      },
      "source": [
        "-------------- HẾT PHẦN OPTION 2 ---------------------"
      ]
    }
  ]
}