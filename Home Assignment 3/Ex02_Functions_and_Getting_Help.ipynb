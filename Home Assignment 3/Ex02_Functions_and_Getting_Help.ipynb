{
  "nbformat": 4,
  "nbformat_minor": 0,
  "metadata": {
    "kernelspec": {
      "display_name": "Python 3",
      "language": "python",
      "name": "python3"
    },
    "language_info": {
      "codemirror_mode": {
        "name": "ipython",
        "version": 3
      },
      "file_extension": ".py",
      "mimetype": "text/x-python",
      "name": "python",
      "nbconvert_exporter": "python",
      "pygments_lexer": "ipython3",
      "version": "3.6.5"
    },
    "learntools_metadata": {
      "lesson_index": 1,
      "type": "exercise"
    },
    "colab": {
      "name": "Ex02 - Functions and Getting Help.ipynb",
      "provenance": []
    }
  },
  "cells": [
    {
      "cell_type": "markdown",
      "metadata": {
        "_uuid": "b614ba0f78fa3cb457efd3a72d7c5c6d66ced8c4",
        "id": "KshQCmBVSU3W"
      },
      "source": [
        "# Exercise 02 - Functions and Getting Help !"
      ]
    },
    {
      "cell_type": "markdown",
      "metadata": {
        "_uuid": "463c02da36c6f974212f336d68fa9fdec63b29f2",
        "id": "Sbmu_CtDSU3w"
      },
      "source": [
        "## 1. Complete Your Very First Function \n",
        "\n",
        "Complete the body of the following function according to its docstring.\n",
        "\n",
        "*HINT*: Python has a builtin function `round`"
      ]
    },
    {
      "cell_type": "code",
      "metadata": {
        "_uuid": "eb7401ab1739f5310e7b400a67c55e9025866d5d",
        "id": "FkSXuqrlSU3z"
      },
      "source": [
        " def round_to_two_places(num):\n",
        "     \"\"\"Return the given number rounded to two decimal places. \n",
        "    \n",
        "     >>> round_to_two_places(3.14159)\n",
        "     3.14\n",
        "     \"\"\"\n",
        "     return round(num,2)\n",
        "     "
      ],
      "execution_count": 19,
      "outputs": []
    },
    {
      "cell_type": "code",
      "metadata": {
        "colab": {
          "base_uri": "https://localhost:8080/"
        },
        "id": "lbwP7dzyWkwd",
        "outputId": "c67c18f6-436a-43fb-ea1e-530000014757"
      },
      "source": [
        "round_to_two_places(3.14159)"
      ],
      "execution_count": 20,
      "outputs": [
        {
          "output_type": "execute_result",
          "data": {
            "text/plain": [
              "3.14"
            ]
          },
          "metadata": {
            "tags": []
          },
          "execution_count": 20
        }
      ]
    },
    {
      "cell_type": "markdown",
      "metadata": {
        "_uuid": "2c6c12ce2992453c0e7c06d813e3bdf1dbfdad73",
        "id": "1szRp7G_SU31"
      },
      "source": [
        "## 2. Explore the Built-in Function\n",
        "The help for `round` says that `ndigits` (the second argument) may be negative.\n",
        "What do you think will happen when it is? Try some examples in the following cell?\n",
        "\n",
        "Can you think of a case where this would be useful?"
      ]
    },
    {
      "cell_type": "code",
      "metadata": {
        "_uuid": "310ae90a6f40836427b7563e595dbb1156283ceb",
        "id": "JqOoF8SRSU32",
        "colab": {
          "base_uri": "https://localhost:8080/"
        },
        "outputId": "b9d5e443-d3d4-485a-c4e8-b6c0ee94486c"
      },
      "source": [
        "# Put your test code here\n",
        "help(round)"
      ],
      "execution_count": 21,
      "outputs": [
        {
          "output_type": "stream",
          "text": [
            "Help on built-in function round in module builtins:\n",
            "\n",
            "round(number, ndigits=None)\n",
            "    Round a number to a given precision in decimal digits.\n",
            "    \n",
            "    The return value is an integer if ndigits is omitted or None.  Otherwise\n",
            "    the return value has the same type as the number.  ndigits may be negative.\n",
            "\n"
          ],
          "name": "stdout"
        }
      ]
    },
    {
      "cell_type": "markdown",
      "metadata": {
        "_uuid": "36e83961f42db06503a116a777185ac25b759788",
        "id": "ghGKgKWySU33"
      },
      "source": [
        "## 3. More Function\n",
        "\n",
        "Giving the problem of candy-sharing friends Alice, Bob and Carol tried to split candies evenly. For the sake of their friendship, any candies left over would be smashed. For example, if they collectively bring home 91 candies, they will take 30 each and smash 1.\n",
        "\n",
        "Below is a simple function that will calculate the number of candies to smash for *any* number of total candies.\n",
        "\n",
        "**Your task**: \n",
        "- Modify it so that it optionally takes a second argument representing the number of friends the candies are being split between. If no second argument is provided, it should assume 3 friends, as before.\n",
        "- Update the docstring to reflect this new behaviour."
      ]
    },
    {
      "cell_type": "code",
      "metadata": {
        "_uuid": "2bbed479de86e23c7a812c7ae0782735fd764195",
        "id": "8ZrA0j40SU34"
      },
      "source": [
        "def to_smash(total_candies):\n",
        "    \"\"\"Return the number of leftover candies that must be smashed after distributing\n",
        "    the given number of candies evenly between 3 friends.\n",
        "    \n",
        "    >>> to_smash(91)\n",
        "    1\n",
        "    \"\"\"\n",
        "    return total_candies % 3"
      ],
      "execution_count": 28,
      "outputs": []
    },
    {
      "cell_type": "code",
      "metadata": {
        "colab": {
          "base_uri": "https://localhost:8080/"
        },
        "id": "c2lufLWrYxqZ",
        "outputId": "035601c4-164a-4265-c000-2198cda670d5"
      },
      "source": [
        "to_smash(91)"
      ],
      "execution_count": 29,
      "outputs": [
        {
          "output_type": "execute_result",
          "data": {
            "text/plain": [
              "1"
            ]
          },
          "metadata": {
            "tags": []
          },
          "execution_count": 29
        }
      ]
    },
    {
      "cell_type": "code",
      "metadata": {
        "id": "IVvTN14fXkPI"
      },
      "source": [
        "def to_smash(total_candies, n_friends=3):\n",
        "    \"\"\"Return the number of friends that the candies are being split between\n",
        "    \n",
        "    >>> to_smash(91,2)\n",
        "    1\n",
        "    \"\"\"\n",
        "    return total_candies % n_friends"
      ],
      "execution_count": 38,
      "outputs": []
    },
    {
      "cell_type": "code",
      "metadata": {
        "colab": {
          "base_uri": "https://localhost:8080/"
        },
        "id": "u3Ci3QevZPE5",
        "outputId": "7ac0aac9-4f7d-42ac-adf6-445e2bfc8245"
      },
      "source": [
        "to_smash(91,2)"
      ],
      "execution_count": 42,
      "outputs": [
        {
          "output_type": "execute_result",
          "data": {
            "text/plain": [
              "1"
            ]
          },
          "metadata": {
            "tags": []
          },
          "execution_count": 42
        }
      ]
    },
    {
      "cell_type": "markdown",
      "metadata": {
        "_uuid": "ec7d50eeeb167b91ecae5c682d65b9e1fc5fcf13",
        "id": "f2-jYlDFSU35"
      },
      "source": [
        "## 4. Taste some Errors\n",
        "\n",
        "It may not be fun, but reading and understanding **error messages** will help you improve solving problem skills.\n",
        "\n",
        "Each code cell below contains some commented-out buggy code. For each cell...\n",
        "\n",
        "1. Read the code and predict what you think will happen when it's run.\n",
        "2. Then uncomment the code and run it to see what happens. *(**Tips**: In the kernel editor, you can highlight several lines and press `ctrl`+`/` to toggle commenting.)*\n",
        "3. Fix the code (so that it accomplishes its intended purpose without throwing an exception)\n",
        "\n",
        "<!-- TODO: should this be autochecked? Delta is probably pretty small. -->"
      ]
    },
    {
      "cell_type": "code",
      "metadata": {
        "_uuid": "dd3955780a593bff78face0dc46093f4deb533ab",
        "id": "QaFp0QwlSU36",
        "colab": {
          "base_uri": "https://localhost:8080/",
          "height": 167
        },
        "outputId": "cfaa4fc0-c073-4aea-a441-35fa38b976ed"
      },
      "source": [
        "ruound_to_two_places(9.9999)"
      ],
      "execution_count": 43,
      "outputs": [
        {
          "output_type": "error",
          "ename": "NameError",
          "evalue": "ignored",
          "traceback": [
            "\u001b[0;31m---------------------------------------------------------------------------\u001b[0m",
            "\u001b[0;31mNameError\u001b[0m                                 Traceback (most recent call last)",
            "\u001b[0;32m<ipython-input-43-c6fedd2edf24>\u001b[0m in \u001b[0;36m<module>\u001b[0;34m()\u001b[0m\n\u001b[0;32m----> 1\u001b[0;31m \u001b[0mruound_to_two_places\u001b[0m\u001b[0;34m(\u001b[0m\u001b[0;36m9.9999\u001b[0m\u001b[0;34m)\u001b[0m\u001b[0;34m\u001b[0m\u001b[0;34m\u001b[0m\u001b[0m\n\u001b[0m",
            "\u001b[0;31mNameError\u001b[0m: name 'ruound_to_two_places' is not defined"
          ]
        }
      ]
    },
    {
      "cell_type": "code",
      "metadata": {
        "colab": {
          "base_uri": "https://localhost:8080/"
        },
        "id": "gJKzCo9HaX3Y",
        "outputId": "cdbfedf0-1dc4-4cc3-a72e-3c158085a78e"
      },
      "source": [
        "round_to_two_places(9.9999)"
      ],
      "execution_count": 45,
      "outputs": [
        {
          "output_type": "execute_result",
          "data": {
            "text/plain": [
              "10.0"
            ]
          },
          "metadata": {
            "tags": []
          },
          "execution_count": 45
        }
      ]
    },
    {
      "cell_type": "code",
      "metadata": {
        "_uuid": "2a89511b6b1bd89b05998b705bf3db5088841a43",
        "id": "Cg8hEikzSU36",
        "colab": {
          "base_uri": "https://localhost:8080/",
          "height": 202
        },
        "outputId": "ad497874-4b7f-4cd1-e03e-f852504fb0e9"
      },
      "source": [
        "x = -10\n",
        "y = 5\n",
        "# # Which of the two variables above has the smallest absolute value?\n",
        "smallest_abs = min(abs(x, y))"
      ],
      "execution_count": 46,
      "outputs": [
        {
          "output_type": "error",
          "ename": "TypeError",
          "evalue": "ignored",
          "traceback": [
            "\u001b[0;31m---------------------------------------------------------------------------\u001b[0m",
            "\u001b[0;31mTypeError\u001b[0m                                 Traceback (most recent call last)",
            "\u001b[0;32m<ipython-input-46-660a1450fb30>\u001b[0m in \u001b[0;36m<module>\u001b[0;34m()\u001b[0m\n\u001b[1;32m      2\u001b[0m \u001b[0my\u001b[0m \u001b[0;34m=\u001b[0m \u001b[0;36m5\u001b[0m\u001b[0;34m\u001b[0m\u001b[0;34m\u001b[0m\u001b[0m\n\u001b[1;32m      3\u001b[0m \u001b[0;31m# # Which of the two variables above has the smallest absolute value?\u001b[0m\u001b[0;34m\u001b[0m\u001b[0;34m\u001b[0m\u001b[0;34m\u001b[0m\u001b[0m\n\u001b[0;32m----> 4\u001b[0;31m \u001b[0msmallest_abs\u001b[0m \u001b[0;34m=\u001b[0m \u001b[0mmin\u001b[0m\u001b[0;34m(\u001b[0m\u001b[0mabs\u001b[0m\u001b[0;34m(\u001b[0m\u001b[0mx\u001b[0m\u001b[0;34m,\u001b[0m \u001b[0my\u001b[0m\u001b[0;34m)\u001b[0m\u001b[0;34m)\u001b[0m\u001b[0;34m\u001b[0m\u001b[0;34m\u001b[0m\u001b[0m\n\u001b[0m",
            "\u001b[0;31mTypeError\u001b[0m: abs() takes exactly one argument (2 given)"
          ]
        }
      ]
    },
    {
      "cell_type": "code",
      "metadata": {
        "id": "pvRnpP9Ya6eY"
      },
      "source": [
        "x = -10\n",
        "y = 5\n",
        "smallest_abs = min(abs(x),abs(y))"
      ],
      "execution_count": 48,
      "outputs": []
    },
    {
      "cell_type": "code",
      "metadata": {
        "_uuid": "6ae2b82d1003c4bc7fe4d503e7d9ddeca3f95b1e",
        "id": "Dh04ys5DSU37",
        "colab": {
          "base_uri": "https://localhost:8080/"
        },
        "outputId": "f69d3016-7aa8-48ce-ffb3-852ccd36f05c"
      },
      "source": [
        "def f(x):\n",
        "    y = abs(x)\n",
        "    return y\n",
        "\n",
        "print(f(5))"
      ],
      "execution_count": 50,
      "outputs": [
        {
          "output_type": "stream",
          "text": [
            "5\n"
          ],
          "name": "stdout"
        }
      ]
    },
    {
      "cell_type": "markdown",
      "metadata": {
        "_uuid": "dc94a365a7d7f7f974348e9e5ec597a2d5036c6b",
        "id": "VLO1FV-USU37"
      },
      "source": [
        "## 5. More and more Functions\n",
        "\n",
        "For this question, we'll be using two functions imported from Python's `time` module.\n",
        "\n",
        "### Time Function\n",
        "The [time](https://docs.python.org/3/library/time.html#time.time) function returns the number of seconds that have passed since the Epoch (aka [Unix time](https://en.wikipedia.org/wiki/Unix_time)). \n",
        "\n",
        "<!-- We've provided a function called `seconds_since_epoch` which returns the number of seconds that have passed since the Epoch (aka [Unix time](https://en.wikipedia.org/wiki/Unix_time)). -->\n",
        "\n",
        "Try it out below. Each time you run it, you should get a slightly larger number."
      ]
    },
    {
      "cell_type": "code",
      "metadata": {
        "_uuid": "6c219975b461ccac77cdb0cb8dd3527c0cef52fd",
        "id": "uKKxrKQ6SU38",
        "colab": {
          "base_uri": "https://localhost:8080/"
        },
        "outputId": "07e15253-1788-4e73-af3a-35370f521c11"
      },
      "source": [
        "# Importing the function 'time' from the module of the same name. \n",
        "# (We'll discuss imports in more depth later)\n",
        "from time import time\n",
        "t = time()\n",
        "print(t, \"seconds since the Epoch\")"
      ],
      "execution_count": 51,
      "outputs": [
        {
          "output_type": "stream",
          "text": [
            "1621357413.9516206 seconds since the Epoch\n"
          ],
          "name": "stdout"
        }
      ]
    },
    {
      "cell_type": "markdown",
      "metadata": {
        "_uuid": "5b75363a5c9d514c41cc10f263083f16b078c81c",
        "id": "P0UX0dHQSU39"
      },
      "source": [
        "### Sleep Function\n",
        "We'll also be using a function called [sleep](https://docs.python.org/3/library/time.html#time.sleep), which makes us wait some number of seconds while it does nothing particular. (Sounds useful, right?)\n",
        "\n",
        "You can see it in action by running the cell below:"
      ]
    },
    {
      "cell_type": "code",
      "metadata": {
        "_uuid": "bc124bfa7c9ac5510fae42cb4c241768ab241502",
        "id": "kF1hx8DcSU39",
        "colab": {
          "base_uri": "https://localhost:8080/"
        },
        "outputId": "f6a98b92-759e-4b56-9865-0fbe9c8f50f2"
      },
      "source": [
        "from time import sleep\n",
        "duration = 5\n",
        "print(\"Getting sleepy. See you in\", duration, \"seconds\")\n",
        "sleep(duration)\n",
        "print(\"I'm back. What did I miss?\")"
      ],
      "execution_count": 52,
      "outputs": [
        {
          "output_type": "stream",
          "text": [
            "Getting sleepy. See you in 5 seconds\n",
            "I'm back. What did I miss?\n"
          ],
          "name": "stdout"
        }
      ]
    },
    {
      "cell_type": "code",
      "metadata": {
        "colab": {
          "base_uri": "https://localhost:8080/"
        },
        "id": "3RN0-6aWb-Fc",
        "outputId": "becc971b-2b03-4b65-e2d6-ec560cda861c"
      },
      "source": [
        "from time import sleep\n",
        "duration = 60\n",
        "print (\"Getting sleepy. See you in\", duration, \"seconds\")\n",
        "sleep(duration)\n",
        "print (\"I'm ready to work\")"
      ],
      "execution_count": 53,
      "outputs": [
        {
          "output_type": "stream",
          "text": [
            "Getting sleepy. See you in 60 seconds\n",
            "I'm ready to work\n"
          ],
          "name": "stdout"
        }
      ]
    },
    {
      "cell_type": "markdown",
      "metadata": {
        "_uuid": "c4e97a4e8267f2c210ada2949b084fa8c9742c9d",
        "id": "Wb9sCG_XSU3-"
      },
      "source": [
        "### Your Own Function\n",
        "With the help of these functions, complete the function **`time_call`** below according to its docstring.\n",
        "\n",
        "<!-- (The sleep function will be useful for testing here since we have a pretty good idea of what something like `time_call(sleep, 1)` should return.) -->"
      ]
    },
    {
      "cell_type": "code",
      "metadata": {
        "_uuid": "100e5013aea45c09e249bf1476d103b1f98daba4",
        "id": "u8nG87yqSU3-"
      },
      "source": [
        "def time_call(fn, arg):\n",
        "    \"\"\"Return the amount of time the given function takes (in seconds) when called with the given argument.\n",
        "    \"\"\"\n",
        "    t0 = time()\n",
        "    fn(arg)\n",
        "    t1 = time()\n",
        "    amount_of_time = t1 - t0\n",
        "    return(amount_of_time)\n",
        "    pass"
      ],
      "execution_count": 55,
      "outputs": []
    },
    {
      "cell_type": "markdown",
      "metadata": {
        "_uuid": "45ba3ad3926ba61d0c9febfc129d8118b9f01518",
        "id": "o2E1d7NbSU3-"
      },
      "source": [
        "How would you verify that `time_call` is working correctly? Think about it..."
      ]
    },
    {
      "cell_type": "code",
      "metadata": {
        "colab": {
          "base_uri": "https://localhost:8080/"
        },
        "id": "oXELs6_-dJxH",
        "outputId": "f7d2fe21-c355-4811-e1ab-8d0fdcae186d"
      },
      "source": [
        "#Verify\n",
        "time_call(sleep,2)"
      ],
      "execution_count": 56,
      "outputs": [
        {
          "output_type": "execute_result",
          "data": {
            "text/plain": [
              "2.003146171569824"
            ]
          },
          "metadata": {
            "tags": []
          },
          "execution_count": 56
        }
      ]
    },
    {
      "cell_type": "markdown",
      "metadata": {
        "_uuid": "472d1778e82e6b7300823a7934ecb55a35a1bb42",
        "id": "pkOVP-MKSU3_"
      },
      "source": [
        "## 6. 🌶️ Reuse your Function\n",
        "\n",
        "*Note: this question depends on a working solution to the previous question.*\n",
        "\n",
        "Complete the function below according to its docstring."
      ]
    },
    {
      "cell_type": "code",
      "metadata": {
        "_uuid": "21abdac6bcd885ef4916cf56a360aee37bce2479",
        "id": "-SxU78ZfSU4A"
      },
      "source": [
        "def slowest_call(fn, arg1, arg2, arg3):\n",
        "    \"\"\"Return the amount of time taken by the slowest of the following function\n",
        "    calls: fn(arg1), fn(arg2), fn(arg3)\n",
        "    \n",
        "    \"\"\"\n",
        "    time1 = time_call(fn,arg1)\n",
        "    time2 = time_call(fn,arg2)\n",
        "    time3 = time_call(fn,arg3)\n",
        "    return max(time1,time2,time3)\n",
        "    pass"
      ],
      "execution_count": 57,
      "outputs": []
    },
    {
      "cell_type": "code",
      "metadata": {
        "colab": {
          "base_uri": "https://localhost:8080/"
        },
        "id": "3LOLM4G_eY_o",
        "outputId": "3301246d-564a-448d-b48d-17b2180fb057"
      },
      "source": [
        "print(slowest_call(sleep,4,5,6))"
      ],
      "execution_count": 59,
      "outputs": [
        {
          "output_type": "stream",
          "text": [
            "6.0028369426727295\n"
          ],
          "name": "stdout"
        }
      ]
    },
    {
      "cell_type": "markdown",
      "metadata": {
        "_uuid": "d1c0353110c1b9578af9bbc20e4a9e0f6717a34e",
        "id": "-JQkq1iNSU4A"
      },
      "source": [
        "# Keep Going"
      ]
    }
  ]
}