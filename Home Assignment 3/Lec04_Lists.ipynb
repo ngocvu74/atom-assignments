{
  "nbformat": 4,
  "nbformat_minor": 0,
  "metadata": {
    "anaconda-cloud": {},
    "kernelspec": {
      "display_name": "Python 3",
      "language": "python",
      "name": "python3"
    },
    "language_info": {
      "codemirror_mode": {
        "name": "ipython",
        "version": 3
      },
      "file_extension": ".py",
      "mimetype": "text/x-python",
      "name": "python",
      "nbconvert_exporter": "python",
      "pygments_lexer": "ipython3",
      "version": "3.6.5"
    },
    "learntools_metadata": {
      "lesson_index": 3,
      "type": "tutorial"
    },
    "colab": {
      "name": "Lec04 - Lists.ipynb",
      "provenance": []
    }
  },
  "cells": [
    {
      "cell_type": "markdown",
      "metadata": {
        "id": "qR0bV90pGHvK"
      },
      "source": [
        "# Lecture04 - Lists\n",
        "\n",
        "Lists in Python represent ordered sequences of values. They can be defined with comma-separated values between square brackets. For example, here is a list of the first few prime numbers:"
      ]
    },
    {
      "cell_type": "code",
      "metadata": {
        "id": "biIqFDZuGHvN"
      },
      "source": [
        "primes = [2, 3, 5, 7]"
      ],
      "execution_count": 2,
      "outputs": []
    },
    {
      "cell_type": "markdown",
      "metadata": {
        "id": "OKBmdELnGHvO"
      },
      "source": [
        "We can put other types of things in lists:"
      ]
    },
    {
      "cell_type": "code",
      "metadata": {
        "id": "i2pUv1ZZGHvO"
      },
      "source": [
        "planets = ['Mercury', 'Venus', 'Earth', 'Mars', 'Jupiter', 'Saturn', 'Uranus', 'Neptune']"
      ],
      "execution_count": 4,
      "outputs": []
    },
    {
      "cell_type": "markdown",
      "metadata": {
        "id": "YIFJhp4AGHvP"
      },
      "source": [
        "Including other lists:"
      ]
    },
    {
      "cell_type": "code",
      "metadata": {
        "id": "vfIEZYADGHvP"
      },
      "source": [
        "hands = [\n",
        "    ['J', 'Q', 'K'],\n",
        "    ['2', '2', '2'],\n",
        "    ['6', 'A', 'K'], # (Comma after the last element is optional)\n",
        "]\n",
        "\n",
        "# (Alternative way, but it can get hard to read)\n",
        "hands = [['J', 'Q', 'K'], ['2', '2', '2'], ['6', 'A', 'K']]"
      ],
      "execution_count": 5,
      "outputs": []
    },
    {
      "cell_type": "markdown",
      "metadata": {
        "id": "vp3yXC-dGHvP"
      },
      "source": [
        "A list can contain a mix of different types:"
      ]
    },
    {
      "cell_type": "code",
      "metadata": {
        "id": "P2C-OzDDGHvQ"
      },
      "source": [
        "my_favourite_things = [32, 'Always be learning!', help]\n",
        "# Look! There is a help() function at the end"
      ],
      "execution_count": 7,
      "outputs": []
    },
    {
      "cell_type": "markdown",
      "metadata": {
        "id": "DvZcebYTGHvQ"
      },
      "source": [
        "## Indexing\n",
        "\n",
        "We can access individual list elements using Python's square bracket indexing syntax.\n",
        "\n",
        "Which planet is closest to the Sun? Python uses ***zero-based*** indexing, so the first element has index 0."
      ]
    },
    {
      "cell_type": "code",
      "metadata": {
        "id": "ZUDzRSvtGHvQ",
        "colab": {
          "base_uri": "https://localhost:8080/",
          "height": 35
        },
        "outputId": "20a7b444-4a09-455b-f6d2-eb10d474378e"
      },
      "source": [
        "planets[0]"
      ],
      "execution_count": 48,
      "outputs": [
        {
          "output_type": "execute_result",
          "data": {
            "application/vnd.google.colaboratory.intrinsic+json": {
              "type": "string"
            },
            "text/plain": [
              "'Mercury'"
            ]
          },
          "metadata": {
            "tags": []
          },
          "execution_count": 48
        }
      ]
    },
    {
      "cell_type": "markdown",
      "metadata": {
        "id": "G9tn-sXjGHvR"
      },
      "source": [
        "What's the next closest planet?"
      ]
    },
    {
      "cell_type": "code",
      "metadata": {
        "id": "0_0IDMAFGHvS",
        "colab": {
          "base_uri": "https://localhost:8080/",
          "height": 35
        },
        "outputId": "fb714836-8b49-4125-f7fd-3edb37bba8f3"
      },
      "source": [
        "planets[1]"
      ],
      "execution_count": 9,
      "outputs": [
        {
          "output_type": "execute_result",
          "data": {
            "application/vnd.google.colaboratory.intrinsic+json": {
              "type": "string"
            },
            "text/plain": [
              "'Venus'"
            ]
          },
          "metadata": {
            "tags": []
          },
          "execution_count": 9
        }
      ]
    },
    {
      "cell_type": "markdown",
      "metadata": {
        "id": "3DHcNI0_GHvS"
      },
      "source": [
        "### Negative Indexing\n",
        "Which planet is *furthest* from the sun?\n",
        "\n",
        "Elements at the end of the list can be accessed with negative numbers, starting from -1:"
      ]
    },
    {
      "cell_type": "code",
      "metadata": {
        "id": "2JhhpDctGHvS",
        "colab": {
          "base_uri": "https://localhost:8080/",
          "height": 35
        },
        "outputId": "a1e2aad6-cc10-457d-86fc-6f0ed9a03e36"
      },
      "source": [
        "planets[-1]"
      ],
      "execution_count": 10,
      "outputs": [
        {
          "output_type": "execute_result",
          "data": {
            "application/vnd.google.colaboratory.intrinsic+json": {
              "type": "string"
            },
            "text/plain": [
              "'Neptune'"
            ]
          },
          "metadata": {
            "tags": []
          },
          "execution_count": 10
        }
      ]
    },
    {
      "cell_type": "code",
      "metadata": {
        "id": "lpelmreeGHvT",
        "colab": {
          "base_uri": "https://localhost:8080/",
          "height": 35
        },
        "outputId": "4c605a2c-f616-4755-dcb5-107a50f49796"
      },
      "source": [
        "planets[-2]"
      ],
      "execution_count": 11,
      "outputs": [
        {
          "output_type": "execute_result",
          "data": {
            "application/vnd.google.colaboratory.intrinsic+json": {
              "type": "string"
            },
            "text/plain": [
              "'Uranus'"
            ]
          },
          "metadata": {
            "tags": []
          },
          "execution_count": 11
        }
      ]
    },
    {
      "cell_type": "markdown",
      "metadata": {
        "id": "WjlkLnwNGHvT"
      },
      "source": [
        "## Slicing\n",
        "\n",
        "What are the first three planets? We can answer this question using *slicing*:"
      ]
    },
    {
      "cell_type": "code",
      "metadata": {
        "id": "91szPiHdGHvT",
        "colab": {
          "base_uri": "https://localhost:8080/"
        },
        "outputId": "d1e05c92-2d9f-4921-e215-0692db5fe866"
      },
      "source": [
        "planets[0:3]"
      ],
      "execution_count": 17,
      "outputs": [
        {
          "output_type": "execute_result",
          "data": {
            "text/plain": [
              "['Mercury', 'Venus', 'Earth']"
            ]
          },
          "metadata": {
            "tags": []
          },
          "execution_count": 17
        }
      ]
    },
    {
      "cell_type": "markdown",
      "metadata": {
        "id": "_WSCGtN9GHvU"
      },
      "source": [
        "`planets[0:3]` is our way of asking Python for the elements of `planets` starting from index 0 and continuing up to ***but not including*** index 3.\n",
        "\n",
        "\n",
        "**Alternatively...**\n",
        "\n",
        "The starting and ending indices are both optional. If we leave out the start index, it's assumed to be 0. So we could rewrite the expression above as:"
      ]
    },
    {
      "cell_type": "code",
      "metadata": {
        "id": "qytu7e-ZGHvU",
        "colab": {
          "base_uri": "https://localhost:8080/"
        },
        "outputId": "0376d0b0-5af0-46b1-d732-2efd12eabb7d"
      },
      "source": [
        "planets[:3]"
      ],
      "execution_count": 18,
      "outputs": [
        {
          "output_type": "execute_result",
          "data": {
            "text/plain": [
              "['Mercury', 'Venus', 'Earth']"
            ]
          },
          "metadata": {
            "tags": []
          },
          "execution_count": 18
        }
      ]
    },
    {
      "cell_type": "markdown",
      "metadata": {
        "id": "EEQKHJinGHvU"
      },
      "source": [
        "If we leave out the end index, it's assumed to be the length of the list."
      ]
    },
    {
      "cell_type": "code",
      "metadata": {
        "id": "RhTz2Gq1GHvV",
        "colab": {
          "base_uri": "https://localhost:8080/"
        },
        "outputId": "c7137e2f-f7b6-4963-f1e6-1440603c8572"
      },
      "source": [
        "planets[3:]"
      ],
      "execution_count": 19,
      "outputs": [
        {
          "output_type": "execute_result",
          "data": {
            "text/plain": [
              "['Mars', 'Jupiter', 'Saturn', 'Uranus', 'Neptune']"
            ]
          },
          "metadata": {
            "tags": []
          },
          "execution_count": 19
        }
      ]
    },
    {
      "cell_type": "markdown",
      "metadata": {
        "id": "4e9khHE9GHvV"
      },
      "source": [
        "i.e. the expression above means \"give me all the planets from index 3 onward\".\n",
        "\n",
        "We can also use negative indices when slicing:"
      ]
    },
    {
      "cell_type": "code",
      "metadata": {
        "id": "Im5cXWxuGHvV",
        "colab": {
          "base_uri": "https://localhost:8080/"
        },
        "outputId": "ec1dbf4d-987a-455d-de3b-e79c97a0bc49"
      },
      "source": [
        "# All the planets except the first and last\n",
        "planets[1:-1]"
      ],
      "execution_count": 20,
      "outputs": [
        {
          "output_type": "execute_result",
          "data": {
            "text/plain": [
              "['Venus', 'Earth', 'Mars', 'Jupiter', 'Saturn', 'Uranus']"
            ]
          },
          "metadata": {
            "tags": []
          },
          "execution_count": 20
        }
      ]
    },
    {
      "cell_type": "code",
      "metadata": {
        "id": "GHK_k_xAGHvW",
        "colab": {
          "base_uri": "https://localhost:8080/"
        },
        "outputId": "f4f93d49-53b3-4c05-d3df-ba2246df1f9f"
      },
      "source": [
        "# The last 3 planets\n",
        "planets[-3:]"
      ],
      "execution_count": 21,
      "outputs": [
        {
          "output_type": "execute_result",
          "data": {
            "text/plain": [
              "['Saturn', 'Uranus', 'Neptune']"
            ]
          },
          "metadata": {
            "tags": []
          },
          "execution_count": 21
        }
      ]
    },
    {
      "cell_type": "markdown",
      "metadata": {
        "id": "5oY40AIHGHvW"
      },
      "source": [
        "<!-- TODO: include third 'step size' slice argument and its use for reversing? -->\n",
        "\n",
        "## Mutating lists\n",
        "\n",
        "Lists are mutable, meaning they can be modified \"in place\".\n",
        "\n",
        "One way to modify a list is to assign to an index or slice expression.\n",
        "\n",
        "For example, let's say we want to rename Mars:"
      ]
    },
    {
      "cell_type": "code",
      "metadata": {
        "id": "PE9oDhFIGHvW",
        "colab": {
          "base_uri": "https://localhost:8080/"
        },
        "outputId": "6a96bcab-2b84-46b0-cf3f-407f25a91025"
      },
      "source": [
        "planets[3] = 'Malacandra'\n",
        "planets"
      ],
      "execution_count": 22,
      "outputs": [
        {
          "output_type": "execute_result",
          "data": {
            "text/plain": [
              "['Mercury',\n",
              " 'Venus',\n",
              " 'Earth',\n",
              " 'Malacandra',\n",
              " 'Jupiter',\n",
              " 'Saturn',\n",
              " 'Uranus',\n",
              " 'Neptune']"
            ]
          },
          "metadata": {
            "tags": []
          },
          "execution_count": 22
        }
      ]
    },
    {
      "cell_type": "markdown",
      "metadata": {
        "id": "wGAElsjeGHvX"
      },
      "source": [
        "Hm, that's quite a mouthful. Let's compensate by shortening the names of the first 3 planets."
      ]
    },
    {
      "cell_type": "code",
      "metadata": {
        "id": "VMPI0YPQGHvX",
        "colab": {
          "base_uri": "https://localhost:8080/"
        },
        "outputId": "d9d6796e-97c6-4d97-b487-503a02d5e3cb"
      },
      "source": [
        "planets[:3] = ['Mur', 'Vee', 'Ur']\n",
        "print(planets)\n",
        "\n",
        "# (Okay, that was rather silly. Let's give them back their old names)\n",
        "planets[:4] = ['Mercury', 'Venus', 'Earth', 'Mars',]\n",
        "print(planets)"
      ],
      "execution_count": 23,
      "outputs": [
        {
          "output_type": "stream",
          "text": [
            "['Mur', 'Vee', 'Ur', 'Malacandra', 'Jupiter', 'Saturn', 'Uranus', 'Neptune']\n",
            "['Mercury', 'Venus', 'Earth', 'Mars', 'Jupiter', 'Saturn', 'Uranus', 'Neptune']\n"
          ],
          "name": "stdout"
        }
      ]
    },
    {
      "cell_type": "markdown",
      "metadata": {
        "id": "sYI9vtQeGHvX"
      },
      "source": [
        "## List functions\n",
        "\n",
        "Python has several useful builtin functions for working with lists.\n",
        "\n",
        "**`len`** gives the length of a list"
      ]
    },
    {
      "cell_type": "code",
      "metadata": {
        "id": "-iR_87LjGHvY",
        "colab": {
          "base_uri": "https://localhost:8080/"
        },
        "outputId": "7ce5c853-b798-4d94-e3db-15706a65c5b8"
      },
      "source": [
        "# How many planets are there?\n",
        "len(planets)"
      ],
      "execution_count": 24,
      "outputs": [
        {
          "output_type": "execute_result",
          "data": {
            "text/plain": [
              "8"
            ]
          },
          "metadata": {
            "tags": []
          },
          "execution_count": 24
        }
      ]
    },
    {
      "cell_type": "markdown",
      "metadata": {
        "id": "zu6HiXFEGHvY"
      },
      "source": [
        "**`sorted`** returns a sorted version of a list:"
      ]
    },
    {
      "cell_type": "code",
      "metadata": {
        "id": "d7qt6TSwGHvY",
        "colab": {
          "base_uri": "https://localhost:8080/"
        },
        "outputId": "0f550d7c-f757-4df3-ea21-143997203b87"
      },
      "source": [
        "# The planets sorted in alphabetical order\n",
        "sorted(planets)"
      ],
      "execution_count": 25,
      "outputs": [
        {
          "output_type": "execute_result",
          "data": {
            "text/plain": [
              "['Earth', 'Jupiter', 'Mars', 'Mercury', 'Neptune', 'Saturn', 'Uranus', 'Venus']"
            ]
          },
          "metadata": {
            "tags": []
          },
          "execution_count": 25
        }
      ]
    },
    {
      "cell_type": "markdown",
      "metadata": {
        "id": "ZU_mS0AqGHvZ"
      },
      "source": [
        "**`sum`**does what you might expect:"
      ]
    },
    {
      "cell_type": "code",
      "metadata": {
        "id": "qn0_6a73GHvZ",
        "colab": {
          "base_uri": "https://localhost:8080/"
        },
        "outputId": "0f1615b6-fc5b-4525-b52e-67fedaca49b9"
      },
      "source": [
        "primes = [2, 3, 5, 7]\n",
        "sum(primes)"
      ],
      "execution_count": 26,
      "outputs": [
        {
          "output_type": "execute_result",
          "data": {
            "text/plain": [
              "17"
            ]
          },
          "metadata": {
            "tags": []
          },
          "execution_count": 26
        }
      ]
    },
    {
      "cell_type": "markdown",
      "metadata": {
        "id": "3ypM_3GaGHvZ"
      },
      "source": [
        "We've previously used the **`min`** and **`max`** to get the minimum or maximum of several arguments. But we can also pass in a single list argument."
      ]
    },
    {
      "cell_type": "code",
      "metadata": {
        "id": "d-uO1VaOGHvZ",
        "colab": {
          "base_uri": "https://localhost:8080/"
        },
        "outputId": "2da6da8d-9424-47a7-fe08-c1e5e59e6f14"
      },
      "source": [
        "max(primes)"
      ],
      "execution_count": 27,
      "outputs": [
        {
          "output_type": "execute_result",
          "data": {
            "text/plain": [
              "7"
            ]
          },
          "metadata": {
            "tags": []
          },
          "execution_count": 27
        }
      ]
    },
    {
      "cell_type": "markdown",
      "metadata": {
        "id": "mMtquAkiGHva"
      },
      "source": [
        "## Interlude: Objects\n",
        "\n",
        "I've been throwing around the term 'Object' a lot so far - you may even remember me claiming that *everything* in Python is an object. But what does that actually mean?\n",
        "\n",
        "In short, objects carry some stuffs around with them. We can access that stuff using Python's dot `.` syntax.\n",
        "\n",
        "For example, numbers in Python carry around an associated variable called `imag` representing their imaginary part. (You'll probably never need to use this unless you're doing some very weird math.)"
      ]
    },
    {
      "cell_type": "code",
      "metadata": {
        "id": "O64bRWXeGHva",
        "colab": {
          "base_uri": "https://localhost:8080/"
        },
        "outputId": "008169c9-e436-4959-c05e-d371bbe09cb5"
      },
      "source": [
        "x = 12\n",
        "# x is a real number, so its imaginary part is 0.\n",
        "print(x.imag)\n",
        "# Here's how to make a complex number, in case you've ever been curious:\n",
        "c = 3 + 2j\n",
        "print(c.imag)"
      ],
      "execution_count": 28,
      "outputs": [
        {
          "output_type": "stream",
          "text": [
            "0\n",
            "2.0\n"
          ],
          "name": "stdout"
        }
      ]
    },
    {
      "cell_type": "markdown",
      "metadata": {
        "id": "WzQZmsUMGHva"
      },
      "source": [
        "The things an object carries around can also include functions. \n",
        "\n",
        "A function attached to an object is called a ***method***. (Non-function things attached to an object, such as `imag` above, are called ***attributes***).\n",
        "\n",
        "For example, numbers have a method called `bit_length`. Again, we access it using dot syntax:"
      ]
    },
    {
      "cell_type": "code",
      "metadata": {
        "id": "Ae5TA8rQGHvb",
        "colab": {
          "base_uri": "https://localhost:8080/"
        },
        "outputId": "6eb04723-5b92-405e-ce03-b1063790dc76"
      },
      "source": [
        "x.bit_length"
      ],
      "execution_count": 29,
      "outputs": [
        {
          "output_type": "execute_result",
          "data": {
            "text/plain": [
              "<function int.bit_length>"
            ]
          },
          "metadata": {
            "tags": []
          },
          "execution_count": 29
        }
      ]
    },
    {
      "cell_type": "markdown",
      "metadata": {
        "id": "xcN9wfhIGHvb"
      },
      "source": [
        "To actually call it, we add parentheses:"
      ]
    },
    {
      "cell_type": "code",
      "metadata": {
        "id": "pt9mlDfdGHvb",
        "colab": {
          "base_uri": "https://localhost:8080/"
        },
        "outputId": "0cb3a70f-0458-4ba1-ef02-82048665de30"
      },
      "source": [
        "x.bit_length()"
      ],
      "execution_count": 30,
      "outputs": [
        {
          "output_type": "execute_result",
          "data": {
            "text/plain": [
              "4"
            ]
          },
          "metadata": {
            "tags": []
          },
          "execution_count": 30
        }
      ]
    },
    {
      "cell_type": "markdown",
      "metadata": {
        "id": "nftJhFLmGHvb"
      },
      "source": [
        "\n",
        "In the same way that we can pass functions to the `help` function (e.g. `help(max)`), we can also pass in method"
      ]
    },
    {
      "cell_type": "code",
      "metadata": {
        "id": "R0E8tep_GHvc",
        "colab": {
          "base_uri": "https://localhost:8080/"
        },
        "outputId": "000622a1-ac5e-455c-a53a-53b66fed6c3f"
      },
      "source": [
        "help(x.bit_length)"
      ],
      "execution_count": 31,
      "outputs": [
        {
          "output_type": "stream",
          "text": [
            "Help on built-in function bit_length:\n",
            "\n",
            "bit_length() method of builtins.int instance\n",
            "    Number of bits necessary to represent self in binary.\n",
            "    \n",
            "    >>> bin(37)\n",
            "    '0b100101'\n",
            "    >>> (37).bit_length()\n",
            "    6\n",
            "\n"
          ],
          "name": "stdout"
        }
      ]
    },
    {
      "cell_type": "markdown",
      "metadata": {
        "id": "vSEyIdTFGHvc"
      },
      "source": [
        "<!-- TODO:\n",
        "dir?\n",
        "A useful builtin method for interacting with objects is `dir`. `dir` asks: what are the names of all the things (methods, and attributes) that this object is carrying around?\n",
        "help(x)?\n",
        "-->\n",
        "\n",
        "The examples above were utterly obscure. None of the types of objects we've looked at so far (numbers, functions, booleans) have attributes or methods you're likely ever to use.\n",
        "\n",
        "But it turns out that lists have several methods which you'll use all the time."
      ]
    },
    {
      "cell_type": "markdown",
      "metadata": {
        "id": "wy4GSIQ0GHvc"
      },
      "source": [
        "## List methods"
      ]
    },
    {
      "cell_type": "markdown",
      "metadata": {
        "id": "eSiLLepLGHvc"
      },
      "source": [
        "`list.append` modifies a list by adding an item to the end:"
      ]
    },
    {
      "cell_type": "code",
      "metadata": {
        "id": "Ehctn-x5GHvc"
      },
      "source": [
        "# Pluto is a planet darn it!\n",
        "planets.append('Pluto')"
      ],
      "execution_count": 32,
      "outputs": []
    },
    {
      "cell_type": "markdown",
      "metadata": {
        "id": "6bUKKiRkGHvd"
      },
      "source": [
        "Why does the cell above have no output? Let's check the documentation by calling `help(planets.append)`.\n",
        "\n",
        "> **Aside:** `append` is a method carried around by *all* objects of type list, not just `planets`, so we also could have called `help(list.append)`. However, if we try to call `help(append)`, Python will complain that no variable exists called \"append\". The \"append\" name only exists within lists - it doesn't exist as a standalone name like builtin functions such as `max` or `len`."
      ]
    },
    {
      "cell_type": "code",
      "metadata": {
        "id": "85rrdVQHGHvd",
        "colab": {
          "base_uri": "https://localhost:8080/"
        },
        "outputId": "eb7c6697-2fde-4e16-eceb-d8b9f217f062"
      },
      "source": [
        "help(planets.append)"
      ],
      "execution_count": 33,
      "outputs": [
        {
          "output_type": "stream",
          "text": [
            "Help on built-in function append:\n",
            "\n",
            "append(object, /) method of builtins.list instance\n",
            "    Append object to the end of the list.\n",
            "\n"
          ],
          "name": "stdout"
        }
      ]
    },
    {
      "cell_type": "markdown",
      "metadata": {
        "id": "uxyrb7UsGHvd"
      },
      "source": [
        "The `-> None` part is telling us that `list.append` doesn't return anything. But if we check the value of `planets`, we can see that the method call modified the value of `planets`:"
      ]
    },
    {
      "cell_type": "code",
      "metadata": {
        "id": "Rpiel8EpGHvd",
        "colab": {
          "base_uri": "https://localhost:8080/"
        },
        "outputId": "af9a0d05-ce75-434c-cfac-3615418fbfd0"
      },
      "source": [
        "planets"
      ],
      "execution_count": 34,
      "outputs": [
        {
          "output_type": "execute_result",
          "data": {
            "text/plain": [
              "['Mercury',\n",
              " 'Venus',\n",
              " 'Earth',\n",
              " 'Mars',\n",
              " 'Jupiter',\n",
              " 'Saturn',\n",
              " 'Uranus',\n",
              " 'Neptune',\n",
              " 'Pluto']"
            ]
          },
          "metadata": {
            "tags": []
          },
          "execution_count": 34
        }
      ]
    },
    {
      "cell_type": "markdown",
      "metadata": {
        "id": "Vbx3EOfQGHve"
      },
      "source": [
        "`list.pop` removes and returns the last element of a list:"
      ]
    },
    {
      "cell_type": "code",
      "metadata": {
        "id": "okawq3aqGHve",
        "colab": {
          "base_uri": "https://localhost:8080/",
          "height": 35
        },
        "outputId": "3219a2b1-513a-491e-d4ab-82a4a66e1f39"
      },
      "source": [
        "planets.pop()"
      ],
      "execution_count": 35,
      "outputs": [
        {
          "output_type": "execute_result",
          "data": {
            "application/vnd.google.colaboratory.intrinsic+json": {
              "type": "string"
            },
            "text/plain": [
              "'Pluto'"
            ]
          },
          "metadata": {
            "tags": []
          },
          "execution_count": 35
        }
      ]
    },
    {
      "cell_type": "code",
      "metadata": {
        "id": "WE7MX6sWGHve",
        "colab": {
          "base_uri": "https://localhost:8080/"
        },
        "outputId": "9a460d83-a584-4fab-81bc-dfef18a9de8a"
      },
      "source": [
        "planets"
      ],
      "execution_count": 36,
      "outputs": [
        {
          "output_type": "execute_result",
          "data": {
            "text/plain": [
              "['Mercury', 'Venus', 'Earth', 'Mars', 'Jupiter', 'Saturn', 'Uranus', 'Neptune']"
            ]
          },
          "metadata": {
            "tags": []
          },
          "execution_count": 36
        }
      ]
    },
    {
      "cell_type": "markdown",
      "metadata": {
        "id": "1CiU0gboGHve"
      },
      "source": [
        "### Searching Lists\n",
        "\n",
        "Where does Earth fall in the order of planets? We can get its index using the `list.index` method."
      ]
    },
    {
      "cell_type": "code",
      "metadata": {
        "id": "K3mWzk3xGHvf",
        "colab": {
          "base_uri": "https://localhost:8080/"
        },
        "outputId": "4a3286f7-5aeb-4a6d-90ca-c3418ee9795b"
      },
      "source": [
        "planets.index('Earth')"
      ],
      "execution_count": 37,
      "outputs": [
        {
          "output_type": "execute_result",
          "data": {
            "text/plain": [
              "2"
            ]
          },
          "metadata": {
            "tags": []
          },
          "execution_count": 37
        }
      ]
    },
    {
      "cell_type": "markdown",
      "metadata": {
        "id": "EHkyB6FsGHvf"
      },
      "source": [
        "It comes third (i.e. at index 2 - 0 indexing!).\n",
        "\n",
        "At what index does Pluto occur?"
      ]
    },
    {
      "cell_type": "code",
      "metadata": {
        "tags": [
          "raises-exception"
        ],
        "id": "cXw9EUEkGHvf",
        "colab": {
          "base_uri": "https://localhost:8080/",
          "height": 167
        },
        "outputId": "5d40c48f-86f9-43b0-d69d-310b98c9dbca"
      },
      "source": [
        "planets.index('Pluto')"
      ],
      "execution_count": 38,
      "outputs": [
        {
          "output_type": "error",
          "ename": "ValueError",
          "evalue": "ignored",
          "traceback": [
            "\u001b[0;31m---------------------------------------------------------------------------\u001b[0m",
            "\u001b[0;31mValueError\u001b[0m                                Traceback (most recent call last)",
            "\u001b[0;32m<ipython-input-38-3a8584cba91a>\u001b[0m in \u001b[0;36m<module>\u001b[0;34m()\u001b[0m\n\u001b[0;32m----> 1\u001b[0;31m \u001b[0mplanets\u001b[0m\u001b[0;34m.\u001b[0m\u001b[0mindex\u001b[0m\u001b[0;34m(\u001b[0m\u001b[0;34m'Pluto'\u001b[0m\u001b[0;34m)\u001b[0m\u001b[0;34m\u001b[0m\u001b[0;34m\u001b[0m\u001b[0m\n\u001b[0m",
            "\u001b[0;31mValueError\u001b[0m: 'Pluto' is not in list"
          ]
        }
      ]
    },
    {
      "cell_type": "markdown",
      "metadata": {
        "id": "EAKT7stlGHvg"
      },
      "source": [
        "Oh, that's right...\n",
        "\n",
        "To avoid unpleasant surprises like this, we can use the **`in`** operator to determine whether a list contains a particular value:"
      ]
    },
    {
      "cell_type": "code",
      "metadata": {
        "id": "rd2nh4rpGHvg",
        "colab": {
          "base_uri": "https://localhost:8080/"
        },
        "outputId": "156cb480-81a5-43e3-fd96-db78e0e4eed5"
      },
      "source": [
        "# Is Earth a planet?\n",
        "\"Earth\" in planets"
      ],
      "execution_count": 39,
      "outputs": [
        {
          "output_type": "execute_result",
          "data": {
            "text/plain": [
              "True"
            ]
          },
          "metadata": {
            "tags": []
          },
          "execution_count": 39
        }
      ]
    },
    {
      "cell_type": "code",
      "metadata": {
        "id": "W9koL5YPGHvh",
        "colab": {
          "base_uri": "https://localhost:8080/"
        },
        "outputId": "41ab772c-96dc-44ac-8fbf-79fbf5a9472e"
      },
      "source": [
        "# Is Calbefraques a planet?\n",
        "\"Calbefraques\" in planets"
      ],
      "execution_count": 40,
      "outputs": [
        {
          "output_type": "execute_result",
          "data": {
            "text/plain": [
              "False"
            ]
          },
          "metadata": {
            "tags": []
          },
          "execution_count": 40
        }
      ]
    },
    {
      "cell_type": "markdown",
      "metadata": {
        "id": "plyQq9e0GHvh"
      },
      "source": [
        "There are a few more interesting list methods we haven't covered. If you want to learn about all the methods and attributes attached to a particular object, we can call `help()` on the object itself. For example, `help(planets)` will tell us about *all* the list methods: "
      ]
    },
    {
      "cell_type": "code",
      "metadata": {
        "_kg_hide-output": true,
        "id": "qDfPL-iaGHvh",
        "colab": {
          "base_uri": "https://localhost:8080/"
        },
        "outputId": "d9921ad2-fe7f-4385-9c8c-17344e693046"
      },
      "source": [
        "help(planets)"
      ],
      "execution_count": 41,
      "outputs": [
        {
          "output_type": "stream",
          "text": [
            "Help on list object:\n",
            "\n",
            "class list(object)\n",
            " |  list(iterable=(), /)\n",
            " |  \n",
            " |  Built-in mutable sequence.\n",
            " |  \n",
            " |  If no argument is given, the constructor creates a new empty list.\n",
            " |  The argument must be an iterable if specified.\n",
            " |  \n",
            " |  Methods defined here:\n",
            " |  \n",
            " |  __add__(self, value, /)\n",
            " |      Return self+value.\n",
            " |  \n",
            " |  __contains__(self, key, /)\n",
            " |      Return key in self.\n",
            " |  \n",
            " |  __delitem__(self, key, /)\n",
            " |      Delete self[key].\n",
            " |  \n",
            " |  __eq__(self, value, /)\n",
            " |      Return self==value.\n",
            " |  \n",
            " |  __ge__(self, value, /)\n",
            " |      Return self>=value.\n",
            " |  \n",
            " |  __getattribute__(self, name, /)\n",
            " |      Return getattr(self, name).\n",
            " |  \n",
            " |  __getitem__(...)\n",
            " |      x.__getitem__(y) <==> x[y]\n",
            " |  \n",
            " |  __gt__(self, value, /)\n",
            " |      Return self>value.\n",
            " |  \n",
            " |  __iadd__(self, value, /)\n",
            " |      Implement self+=value.\n",
            " |  \n",
            " |  __imul__(self, value, /)\n",
            " |      Implement self*=value.\n",
            " |  \n",
            " |  __init__(self, /, *args, **kwargs)\n",
            " |      Initialize self.  See help(type(self)) for accurate signature.\n",
            " |  \n",
            " |  __iter__(self, /)\n",
            " |      Implement iter(self).\n",
            " |  \n",
            " |  __le__(self, value, /)\n",
            " |      Return self<=value.\n",
            " |  \n",
            " |  __len__(self, /)\n",
            " |      Return len(self).\n",
            " |  \n",
            " |  __lt__(self, value, /)\n",
            " |      Return self<value.\n",
            " |  \n",
            " |  __mul__(self, value, /)\n",
            " |      Return self*value.\n",
            " |  \n",
            " |  __ne__(self, value, /)\n",
            " |      Return self!=value.\n",
            " |  \n",
            " |  __repr__(self, /)\n",
            " |      Return repr(self).\n",
            " |  \n",
            " |  __reversed__(self, /)\n",
            " |      Return a reverse iterator over the list.\n",
            " |  \n",
            " |  __rmul__(self, value, /)\n",
            " |      Return value*self.\n",
            " |  \n",
            " |  __setitem__(self, key, value, /)\n",
            " |      Set self[key] to value.\n",
            " |  \n",
            " |  __sizeof__(self, /)\n",
            " |      Return the size of the list in memory, in bytes.\n",
            " |  \n",
            " |  append(self, object, /)\n",
            " |      Append object to the end of the list.\n",
            " |  \n",
            " |  clear(self, /)\n",
            " |      Remove all items from list.\n",
            " |  \n",
            " |  copy(self, /)\n",
            " |      Return a shallow copy of the list.\n",
            " |  \n",
            " |  count(self, value, /)\n",
            " |      Return number of occurrences of value.\n",
            " |  \n",
            " |  extend(self, iterable, /)\n",
            " |      Extend list by appending elements from the iterable.\n",
            " |  \n",
            " |  index(self, value, start=0, stop=9223372036854775807, /)\n",
            " |      Return first index of value.\n",
            " |      \n",
            " |      Raises ValueError if the value is not present.\n",
            " |  \n",
            " |  insert(self, index, object, /)\n",
            " |      Insert object before index.\n",
            " |  \n",
            " |  pop(self, index=-1, /)\n",
            " |      Remove and return item at index (default last).\n",
            " |      \n",
            " |      Raises IndexError if list is empty or index is out of range.\n",
            " |  \n",
            " |  remove(self, value, /)\n",
            " |      Remove first occurrence of value.\n",
            " |      \n",
            " |      Raises ValueError if the value is not present.\n",
            " |  \n",
            " |  reverse(self, /)\n",
            " |      Reverse *IN PLACE*.\n",
            " |  \n",
            " |  sort(self, /, *, key=None, reverse=False)\n",
            " |      Stable sort *IN PLACE*.\n",
            " |  \n",
            " |  ----------------------------------------------------------------------\n",
            " |  Static methods defined here:\n",
            " |  \n",
            " |  __new__(*args, **kwargs) from builtins.type\n",
            " |      Create and return a new object.  See help(type) for accurate signature.\n",
            " |  \n",
            " |  ----------------------------------------------------------------------\n",
            " |  Data and other attributes defined here:\n",
            " |  \n",
            " |  __hash__ = None\n",
            "\n"
          ],
          "name": "stdout"
        }
      ]
    },
    {
      "cell_type": "markdown",
      "metadata": {
        "id": "ZqywS9_5GHvh"
      },
      "source": [
        "Lists have lots of methods with weird-looking names like **`__eq__`** and **`__iadd__`**. Don't worry too much about these for now. (You'll probably never call such methods directly. But they get called behind the scenes when we use syntax like indexing or comparison operators.) The most interesting methods are toward the bottom of the list (**`append`**, **`clear`**, **`copy`**, etc.)."
      ]
    },
    {
      "cell_type": "markdown",
      "metadata": {
        "id": "Ibc0QEM6GHvi"
      },
      "source": [
        "## Tuples\n",
        "\n",
        "Tuples are almost exactly the same as lists. They differ in just two ways.\n",
        "\n",
        "**1:** The syntax for creating them uses (optional) parentheses **`()`** rather than square brackets **`{}`**"
      ]
    },
    {
      "cell_type": "code",
      "metadata": {
        "id": "Kbu8lJNbGHvi"
      },
      "source": [
        "t = (1, 2, 3)"
      ],
      "execution_count": 42,
      "outputs": []
    },
    {
      "cell_type": "code",
      "metadata": {
        "id": "LCPNWP6xGHvi",
        "colab": {
          "base_uri": "https://localhost:8080/"
        },
        "outputId": "04d6f6a5-f3f8-4fd1-dd39-831ebfe8ad5a"
      },
      "source": [
        "t = 1, 2, 3 # equivalent to above\n",
        "t"
      ],
      "execution_count": 43,
      "outputs": [
        {
          "output_type": "execute_result",
          "data": {
            "text/plain": [
              "(1, 2, 3)"
            ]
          },
          "metadata": {
            "tags": []
          },
          "execution_count": 43
        }
      ]
    },
    {
      "cell_type": "markdown",
      "metadata": {
        "id": "Esa2lvlTGHvi"
      },
      "source": [
        "**2:** They cannot be modified (they are ***immutable***)."
      ]
    },
    {
      "cell_type": "code",
      "metadata": {
        "tags": [
          "raises-exception"
        ],
        "id": "8d853462GHvi",
        "colab": {
          "base_uri": "https://localhost:8080/",
          "height": 167
        },
        "outputId": "83f61a9f-1343-46a1-d1b9-a4ef7d7f5ec5"
      },
      "source": [
        "t[0] = 100"
      ],
      "execution_count": 44,
      "outputs": [
        {
          "output_type": "error",
          "ename": "TypeError",
          "evalue": "ignored",
          "traceback": [
            "\u001b[0;31m---------------------------------------------------------------------------\u001b[0m",
            "\u001b[0;31mTypeError\u001b[0m                                 Traceback (most recent call last)",
            "\u001b[0;32m<ipython-input-44-e6cf7836e708>\u001b[0m in \u001b[0;36m<module>\u001b[0;34m()\u001b[0m\n\u001b[0;32m----> 1\u001b[0;31m \u001b[0mt\u001b[0m\u001b[0;34m[\u001b[0m\u001b[0;36m0\u001b[0m\u001b[0;34m]\u001b[0m \u001b[0;34m=\u001b[0m \u001b[0;36m100\u001b[0m\u001b[0;34m\u001b[0m\u001b[0;34m\u001b[0m\u001b[0m\n\u001b[0m",
            "\u001b[0;31mTypeError\u001b[0m: 'tuple' object does not support item assignment"
          ]
        }
      ]
    },
    {
      "cell_type": "markdown",
      "metadata": {
        "id": "2NK6cnsZGHvj"
      },
      "source": [
        "### Tuples over List\n",
        "- ***Tuples are faster than lists***. If you're defining a constant set of values and all you're ever going to do with it is iterate through it, use a tuple instead of a list.\n",
        "\n",
        "- It makes your code safer if you “write-protect” data that does not need to be changed. Using a tuple instead of a list is like having an implied assert statement that this data is constant, and that special thought (and a specific function) is required to override that.\n",
        "\n",
        "- Some tuples can be used as dictionary keys (specifically, tuples that contain immutable values like strings, numbers, and other tuples). Lists can never be used as dictionary keys, because lists are not immutable."
      ]
    },
    {
      "cell_type": "markdown",
      "metadata": {
        "id": "qGrK-4-7GHvj"
      },
      "source": [
        "Tuples are often used for functions that have multiple return values.\n",
        "\n",
        "For example, the ``as_integer_ratio()`` method of float objects returns a numerator and a denominator in the form of a tuple:"
      ]
    },
    {
      "cell_type": "code",
      "metadata": {
        "id": "Lqq3KH1UGHvj",
        "colab": {
          "base_uri": "https://localhost:8080/"
        },
        "outputId": "fb3a3f74-eac4-4768-f72b-407698740443"
      },
      "source": [
        "x = 0.125\n",
        "x.as_integer_ratio()"
      ],
      "execution_count": 45,
      "outputs": [
        {
          "output_type": "execute_result",
          "data": {
            "text/plain": [
              "(1, 8)"
            ]
          },
          "metadata": {
            "tags": []
          },
          "execution_count": 45
        }
      ]
    },
    {
      "cell_type": "markdown",
      "metadata": {
        "id": "Xuws6dOQGHvj"
      },
      "source": [
        "These multiple return values can be individually assigned as follows:"
      ]
    },
    {
      "cell_type": "code",
      "metadata": {
        "id": "EVEoqtLzGHvj",
        "colab": {
          "base_uri": "https://localhost:8080/"
        },
        "outputId": "04269dbe-fd06-48aa-b23d-ce99caaa26e1"
      },
      "source": [
        "numerator, denominator = x.as_integer_ratio()\n",
        "print(numerator)\n",
        "print(denominator)\n",
        "print(numerator / denominator)"
      ],
      "execution_count": 46,
      "outputs": [
        {
          "output_type": "stream",
          "text": [
            "1\n",
            "8\n",
            "0.125\n"
          ],
          "name": "stdout"
        }
      ]
    },
    {
      "cell_type": "markdown",
      "metadata": {
        "id": "n1b2W4oYGHvk"
      },
      "source": [
        "Finally we have some insight into the classic Stupid Python Trick™ for swapping two variables!"
      ]
    },
    {
      "cell_type": "code",
      "metadata": {
        "id": "3AknkHnYGHvk",
        "colab": {
          "base_uri": "https://localhost:8080/"
        },
        "outputId": "9c530604-7890-4236-9b8d-c95ef380331b"
      },
      "source": [
        "a = 1\n",
        "b = 0\n",
        "a, b = b, a # OR (a, b) = (b, a)\n",
        "print(a, b)"
      ],
      "execution_count": 47,
      "outputs": [
        {
          "output_type": "stream",
          "text": [
            "0 1\n"
          ],
          "name": "stdout"
        }
      ]
    },
    {
      "cell_type": "markdown",
      "metadata": {
        "id": "4RcR7XzMGHvk"
      },
      "source": [
        "# Your Turn"
      ]
    }
  ]
}